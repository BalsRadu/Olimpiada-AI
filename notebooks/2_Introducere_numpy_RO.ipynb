{
  "cells": [
    {
      "cell_type": "markdown",
      "metadata": {
        "id": "RD3nD_hyiN_J"
      },
      "source": [
        "<img src = 'https://drive.google.com/uc?id=1cPtoRUIVZ2jWaiIl8z1fm4R4V3kwQfZh\n",
        "' width=\"170\" height=\"190\" align = \"left\">\n",
        "\n",
        "# <font color = \"darkgreen\" > <b>Obiective</b></font>\n",
        "\n",
        "---\n",
        "\n",
        "În această lecție veți învăța despre:\n",
        "\n",
        "- pachetul `numpy`\n",
        "- tablouri multi-dimensionale\n",
        "- generarea numerelor aleatoare\n"
      ]
    },
    {
      "cell_type": "markdown",
      "metadata": {
        "id": "5kaw6FtQ-sdJ"
      },
      "source": [
        "|                                                                                                                         |\n",
        "| ----------------------------------------------------------------------------------------------------------------------- |\n",
        "| <img src='https://drive.google.com/uc?id=1HV8Tdtn20fD2wdlz1hXrFRvgyQ-ZATIv' width=\"550\"  ><figcaption align = \"center\"> |\n"
      ]
    },
    {
      "cell_type": "markdown",
      "metadata": {
        "id": "TK_s931vVvwi"
      },
      "source": [
        "# Numpy\n",
        "\n",
        "\" `Numpy` este pachetul de bază pentru efectuararea operațiilor științifice în Python. El conține, printre altele:\n",
        "\n",
        "- un obiect de tip tablou N-dimensional\n",
        "- funcții complexe pentru manipularea tablourilor\n",
        "- elemente de algebră liniară [...] și capacitatea de a lucra cu numere generate aleator\"\n",
        "  ( conform paginii oficiale [Numpy](https://numpy.org/))\n",
        "\n",
        "În ML se folosesc în mod frecvent tablourile multi-dimensionale și sunt efectuate diferite tipuri de operații matematice cu acestea. Librăria `PyTorch`, care poate fi folosită pentru lucrul cu rețele neuronale, se bazează pe `numpy`. Prin urmare, este necesar să vă familiarizați cu operațiile cu tablouri multidimensionale\n"
      ]
    },
    {
      "cell_type": "markdown",
      "metadata": {
        "id": "pcd3eZUVgnnj"
      },
      "source": [
        "#Lista atributelor/ funcțiilor `numpy` folosite\n",
        "\n",
        "| atribut/ funcție | descriere                                                      |\n",
        "| ---------------- | -------------------------------------------------------------- |\n",
        "| len              | numărul de elemente al primei dimensiuni                       |\n",
        "| dtype            | tipul elementelor tabloului (e.g. float/int)                   |\n",
        "| shape            | returnează un tuplu cu lungimea fiecărei dimensiuni din tablou |\n",
        "| reshape          | modifică structura unui tablou                                 |\n",
        "| ndim             | numărul dimensiunilor tabloului                                |\n",
        "| size             | numărul total de elemente                                      |\n"
      ]
    },
    {
      "cell_type": "markdown",
      "metadata": {
        "id": "70iqihJBez8q"
      },
      "source": [
        "## Tablouri multidimensionale\n"
      ]
    },
    {
      "cell_type": "markdown",
      "metadata": {
        "id": "aKjG-izce5nJ"
      },
      "source": [
        "> Un tablou (`array`) este un set de date cu valori de același tip.\n",
        "\n",
        "Un tablou unidimensional (vector) ar putea fi format, de exemplu, din înălțimile tuturor elevilor dintr-o clasă: `[1.55, 1.78, 1.66, ...]`.\n",
        "\n",
        "Un tablou de tablouri (vector de vectori sau matrice) este un tablou bidimensional (2D).\n",
        "\n",
        "Un tablou de matrice este un tablou tridimensional (3D) ș.a.m.d.\n",
        "\n",
        "> Generalizând, numim un astfel de obiect _tablou multidimensional_ ( chiar și în cazul tabloului cu dimensiunea 1 - care este considerat un caz particular al unui tablou multidimensional)\n"
      ]
    },
    {
      "cell_type": "markdown",
      "metadata": {
        "id": "zvSmdohxb9WT"
      },
      "source": [
        "În capitolul anterior am reprezentat grafic puncte 2D. Datele au fost memorate în liste separate: o lista pentru valorile de pe axa `Ox` și una pentru valorile de pe axa `Oy`.\n",
        "\n",
        "Putem obține același rezultat folosind un tablou 2D `numpy`.\n",
        "\n",
        "În continuare vom analiza câteva exemple de tablouri cu dimensiuni superioare.\n",
        "\n",
        "---\n"
      ]
    },
    {
      "cell_type": "markdown",
      "metadata": {
        "id": "aRV6HkhNnRPL"
      },
      "source": [
        "Vom considera câțiva indicatori ai calității aerului din România (sursa datelor [aici](https://aqicn.org/data-platform/covid19/verify/01e7b854-cffe-4f1b-877f-c433665f9c42)).\n",
        "\n",
        "Putem reprezenta particulele ${PM_{10}}$ (particule cu diametru mai mic de 10 microni) care sunt periculoase pentru sistemul respirator.\n",
        "\n",
        "Vom folosi un tablou bidimensional (matrice): pe coloane memorăm locația, iar pe linii datele calendaristice în care au fost efectuate măsuratorile.\n",
        "\n",
        "Pentru a ține evidența mai multor indicatori, cum ar fi temperatura sau dioxidul de sulf (${SO_2}$), vom adăuga o a treia dimensiune și astfel se obține un tablou 3D.\n",
        "![table](https://drive.google.com/uc?export=view&id=1en9jkU2xk6tovCbTPX7yeb7SvXx8b1Z5)\n"
      ]
    },
    {
      "cell_type": "markdown",
      "metadata": {
        "id": "SsHZ-4LEw-iY"
      },
      "source": [
        "Să presupunem că vrem să calculam media aritmetică a valorilor ${PM_{10}}$ măsurate într-o zi în toate orașele sau media aritmetică a tuturor măsuratorilor efectuate pentru un anumit oraș.\n",
        "\n",
        "Veți vedea cum, folosindu-ne de tablouri `numpy`, efectuarea acestor calcule se face într-un mod extrem de ușor.\n",
        "\n",
        "Vom folosi și funcțiile din biblioteca `matplotlib` pentru o reprezentare grafică relevantă.\n"
      ]
    },
    {
      "cell_type": "markdown",
      "metadata": {
        "id": "UPiwbdRsevNa"
      },
      "source": [
        "> Pentru început, vom încărca datele despre calitatea aerului din fișierul `airqro.csv`.\n",
        "\n",
        "❗️❗️ Înainte, încărcați fișierul din folderul [resources](https://drive.google.com/drive/folders/1M9otFTE7NsY-zBa9CCOTnZLuXF3a9qEj?usp=sharing) în mașina virtuală.\n"
      ]
    },
    {
      "cell_type": "markdown",
      "metadata": {
        "id": "C2-QdUgYW3_h"
      },
      "source": [
        "Datele din fișierul `.csv` vor fi extrase în liste de date:\n",
        "\n",
        "- `locations`, pentru orașe\n",
        "- `indicators`, pentru tipul de măsuratori: ${PM_{10}}$, ${SO_2}$ și temperatură\n"
      ]
    },
    {
      "cell_type": "code",
      "execution_count": 1,
      "metadata": {
        "id": "eRl1QMXPPscP"
      },
      "outputs": [],
      "source": [
        "# We have air quality data for the following locations\n",
        "locations = [\n",
        "    f\"Arad\",\n",
        "    f\"Bacău\",\n",
        "    f\"Baia Mare\",\n",
        "    f\"Brăila\",\n",
        "    f\"Braşov\",\n",
        "    f\"Bucharest\",\n",
        "    f\"Cluj-Napoca\",\n",
        "    f\"Constanţa\",\n",
        "    f\"Craiova\",\n",
        "    f\"Galaţi\",\n",
        "    f\"Iaşi\",\n",
        "    f\"Oradea\",\n",
        "    f\"Piteşti\",\n",
        "    f\"Ploieşti\",\n",
        "    f\"Râmnicu Vâlcea\",\n",
        "    f\"Sibiu\",\n",
        "    f\"Timişoara\",\n",
        "]"
      ]
    },
    {
      "cell_type": "code",
      "execution_count": 2,
      "metadata": {
        "id": "BG8-PK8AAIzt"
      },
      "outputs": [],
      "source": [
        "# We have measurements for the following indicators\n",
        "indicators = [f\"pm10\", f\"so2\", f\"temperature\"]"
      ]
    },
    {
      "cell_type": "markdown",
      "metadata": {
        "id": "YdNBKLo8Xgrd"
      },
      "source": [
        "Fiecare linie a fișierului .csv conține: data, orașul, tipul indicatorului, valoarea măsurată.\n",
        "\n",
        "Datele sunt ordonate după indicator, apoi după oraș și dată.\n",
        "\n",
        "Există 62 de înregistrări zilnice pentru fiecare locație, un total de `3162` linii = `62` zile _ `17` locații _ `3` indicatori (pm10, so2, temperatură)\n",
        "\n",
        "Se vor crea 3 liste de date, câte una pentru fiecare indicator: `pm10_values, so2_values, temperature_values`\n"
      ]
    },
    {
      "cell_type": "code",
      "execution_count": null,
      "metadata": {
        "colab": {
          "base_uri": "https://localhost:8080/"
        },
        "id": "rcISp63XQJ1N",
        "outputId": "b0b0ccec-b641-475b-b21f-a219ea17dc98"
      },
      "outputs": [
        {
          "name": "stderr",
          "output_type": "stream",
          "text": [
            "<>:10: SyntaxWarning: invalid escape sequence '\\w'\n",
            "<>:10: SyntaxWarning: invalid escape sequence '\\w'\n",
            "C:\\Users\\balsr\\AppData\\Local\\Temp\\ipykernel_48092\\1337110976.py:10: SyntaxWarning: invalid escape sequence '\\w'\n",
            "  fname = \"data\\waqi-covid19-airqualitydata-2025.csv\"\n"
          ]
        },
        {
          "name": "stdout",
          "output_type": "stream",
          "text": [
            "59867\n"
          ]
        }
      ],
      "source": [
        "# Each line in the csv file contains: date, city, indicator, median value.\n",
        "# The data is sorted by indicator, then by city, then by date.\n",
        "# There are 62 daily readings per location and per indicator, for a total of\n",
        "# 3162 lines = 62 days * 17 locations * 3 indicators (pm10, so2, temperature)\n",
        "import csv\n",
        "\n",
        "num_days = 62\n",
        "num_locations = len(locations)  # 17\n",
        "num_indicators = len(indicators)  # 3\n",
        "fname = \"..\\data\\waqi-covid19-airqualitydata-2025.csv\"\n",
        "pm10_values = []\n",
        "so2_values = []\n",
        "temperature_values = []\n",
        "\n",
        "\n",
        "# define a function for extracting the indicator value from a line in the file\n",
        "def extract_value(inputs):\n",
        "    # the value of interest is on the last position; convert to number\n",
        "    return float(inputs[-2])\n",
        "\n",
        "\n",
        "# we will read the values for each indicator\n",
        "num_lines = 0\n",
        "with open(fname) as csvfile:\n",
        "    datareader = csv.reader(csvfile)\n",
        "    pm10_count = 0\n",
        "    so2_count = 0\n",
        "    temperature_count = 0\n",
        "    for row in datareader:\n",
        "        # extract numeric value from row and add it to the corresponding list\n",
        "        if row[2] in locations:\n",
        "            val = extract_value(row)\n",
        "            if \"pm10\" in row and pm10_count < num_days * num_locations:\n",
        "                if pm10_count % num_days < num_days:\n",
        "                    pm10_values.append(val)\n",
        "                    pm10_count += 1\n",
        "            elif \"so2\" in row and so2_count < num_days * num_locations:\n",
        "                if so2_count % num_days < num_days:\n",
        "                    so2_values.append(val)\n",
        "                    so2_count += 1\n",
        "            elif \"temperature\" in row and temperature_count < num_days * num_locations:\n",
        "                if temperature_count % num_days < num_days:\n",
        "                    temperature_values.append(val)\n",
        "                    temperature_count += 1\n",
        "            num_lines += 1\n",
        "    csvfile.close()\n",
        "\n",
        "# print the number of lines read to make sure the data is what we expected\n",
        "print(num_lines)"
      ]
    },
    {
      "cell_type": "code",
      "execution_count": null,
      "metadata": {
        "colab": {
          "base_uri": "https://localhost:8080/"
        },
        "id": "A-fyqigqHAiV",
        "outputId": "f3bf7ae5-a5c1-4064-9a9d-25c9b7c2c933"
      },
      "outputs": [],
      "source": [
        "# pm10_values = pm10_values[:num_days]\n",
        "# so2_values = so2_values[:num_days]\n",
        "# temperature_values = temperature_values[:num_days]"
      ]
    },
    {
      "cell_type": "markdown",
      "metadata": {
        "id": "8gyUfY3NZefo"
      },
      "source": [
        "Verificăm numărul de elemente din fiecare listă creată. ( 62 de zile \\* 17 orașe = 1054 valori)\n"
      ]
    },
    {
      "cell_type": "code",
      "execution_count": 25,
      "metadata": {
        "colab": {
          "base_uri": "https://localhost:8080/"
        },
        "id": "sEN5SYUlEK9s",
        "outputId": "44239a55-31ae-48c6-f951-1e9d93933192"
      },
      "outputs": [
        {
          "name": "stdout",
          "output_type": "stream",
          "text": [
            "1054\n",
            "1054\n",
            "1054\n"
          ]
        }
      ],
      "source": [
        "# Check the number of elements in each list\n",
        "print(len(pm10_values))\n",
        "print(len(so2_values))\n",
        "print(len(temperature_values))"
      ]
    },
    {
      "cell_type": "markdown",
      "metadata": {
        "id": "ypYUROCXGGys"
      },
      "source": [
        "## Crearea tablourilor `numpy` din listele de valori\n"
      ]
    },
    {
      "cell_type": "markdown",
      "metadata": {
        "id": "vnE4kewkZpy_"
      },
      "source": [
        "Pentru a lucra mai ușor cu datele, vom transfera valorile din liste în tablouri `numpy`\n"
      ]
    },
    {
      "cell_type": "code",
      "execution_count": 26,
      "metadata": {
        "id": "BVnQ24HWCqBw"
      },
      "outputs": [],
      "source": [
        "# We will now create numpy arrays from these lists for easier manipulation\n",
        "import numpy as np\n",
        "\n",
        "pm10_np = np.array(pm10_values)\n",
        "so2_np = np.array(so2_values)\n",
        "temperature_np = np.array(temperature_values)"
      ]
    },
    {
      "cell_type": "markdown",
      "metadata": {
        "id": "zk3LGujaaQED"
      },
      "source": [
        "Se va afișa numărul de elemente ale primei dimensiuni `numpy` folosind atributul `shape`.\n",
        "\n",
        "> ❗️❗️❗️ `shape` afișează un _tuplu_ de valori, fiecare element din tuplu reprezentând numărul de elemente al unei dimensiuni a tabloului.\n",
        "\n",
        "> Vă reamintim că ați învățat despre _tupluri_ în `Python` în [ Lecția 7 - Tupluri](https://www.pyml.ro/lectia-07-tupluri-in-python-01.php)\n"
      ]
    },
    {
      "cell_type": "code",
      "execution_count": 27,
      "metadata": {
        "colab": {
          "base_uri": "https://localhost:8080/"
        },
        "id": "Mlq57GNoDU8_",
        "outputId": "42b2fb2b-f99e-4000-971c-f07d31cbe93c"
      },
      "outputs": [
        {
          "data": {
            "text/plain": [
              "(1054,)"
            ]
          },
          "execution_count": 27,
          "metadata": {},
          "output_type": "execute_result"
        }
      ],
      "source": [
        "# Let's see the shapes of these arrays using 'shape' attribute\n",
        "pm10_np.shape"
      ]
    },
    {
      "cell_type": "markdown",
      "metadata": {
        "id": "n_XgbZ4Iags3"
      },
      "source": [
        "Afișăm primele 10 elemente ale tabloului `pm10_np`\n"
      ]
    },
    {
      "cell_type": "code",
      "execution_count": 28,
      "metadata": {
        "colab": {
          "base_uri": "https://localhost:8080/"
        },
        "id": "XNmUBzLkBC1X",
        "outputId": "0b6d9748-9c48-41c6-dcf8-0c8d584d77ee"
      },
      "outputs": [
        {
          "data": {
            "text/plain": [
              "array([24., 28., 24., 11., 24., 33., 28., 34., 14., 18.])"
            ]
          },
          "execution_count": 28,
          "metadata": {},
          "output_type": "execute_result"
        }
      ],
      "source": [
        "pm10_np[:10]"
      ]
    },
    {
      "cell_type": "markdown",
      "metadata": {
        "id": "YByHEXjDarJK"
      },
      "source": [
        "Vedem tipul elementelor tabloului `pm10_np` folosind atributul `dtype`\n"
      ]
    },
    {
      "cell_type": "code",
      "execution_count": 29,
      "metadata": {
        "colab": {
          "base_uri": "https://localhost:8080/"
        },
        "id": "G6ZKDebHE-e6",
        "outputId": "6b8a71f4-5248-4eb2-8a67-39aa778c1f3b"
      },
      "outputs": [
        {
          "data": {
            "text/plain": [
              "dtype('float64')"
            ]
          },
          "execution_count": 29,
          "metadata": {},
          "output_type": "execute_result"
        }
      ],
      "source": [
        "# Check the type using the 'dtype' attribute\n",
        "pm10_np.dtype"
      ]
    },
    {
      "cell_type": "markdown",
      "metadata": {
        "id": "I9pfDHfJbEZn"
      },
      "source": [
        "Vom modifica structura tablourilor, adăugand coloana pentru locație, fără a modifica datele existente.\n",
        "Vom folosi funcția `reshape` cu parametrul `order ='F'`, parcurgerea efectuându-se pe linie.\n"
      ]
    },
    {
      "cell_type": "code",
      "execution_count": 32,
      "metadata": {
        "id": "mA8oveiDEfu1"
      },
      "outputs": [],
      "source": [
        "# Let's reshape each array to have each location as a new column; we will use\n",
        "# 'reshape' with order parameter ='F', such that the first dimension (the row)\n",
        "# changes fastest\n",
        "pm10_np = pm10_np.reshape([num_days, num_locations], order=\"F\")"
      ]
    },
    {
      "cell_type": "markdown",
      "metadata": {
        "id": "SAwqHbwUZC2m"
      },
      "source": [
        "Afișăm primele 10 valori pentru prima locație.\n"
      ]
    },
    {
      "cell_type": "code",
      "execution_count": 33,
      "metadata": {
        "colab": {
          "base_uri": "https://localhost:8080/"
        },
        "id": "PYqE2qj7BT_c",
        "outputId": "2ca632f3-b006-49dd-8892-c6b752236e6d"
      },
      "outputs": [
        {
          "data": {
            "text/plain": [
              "array([24., 35., 40.,  7., 10., 18., 21., 36., 18., 14.])"
            ]
          },
          "execution_count": 33,
          "metadata": {},
          "output_type": "execute_result"
        }
      ],
      "source": [
        "pm10_np[:10, 0]"
      ]
    },
    {
      "cell_type": "markdown",
      "metadata": {
        "id": "iWm0LE4CmUhh"
      },
      "source": [
        "Verifcăm din nou numărul elementelor din prima dimensiune a tabloului ( 62 de înregistrări pentru 17 orașe)\n"
      ]
    },
    {
      "cell_type": "code",
      "execution_count": 34,
      "metadata": {
        "colab": {
          "base_uri": "https://localhost:8080/"
        },
        "id": "sYonVshWFjPz",
        "outputId": "80aa86df-7099-4dd8-824b-2e9430a12d78"
      },
      "outputs": [
        {
          "data": {
            "text/plain": [
              "(62, 17)"
            ]
          },
          "execution_count": 34,
          "metadata": {},
          "output_type": "execute_result"
        }
      ],
      "source": [
        "# Check the shape again\n",
        "pm10_np.shape"
      ]
    },
    {
      "cell_type": "code",
      "execution_count": null,
      "metadata": {
        "id": "2hbdmC0XG2Bo"
      },
      "outputs": [],
      "source": [
        "# Note that we could have provided only 1 dimension like this\n",
        "# pm10_np = pm10_np.reshape([num_days, -1])\n",
        "# and the interpreter infers the missing dimension on its own as it knows the\n",
        "# total number of elements in the array and the size of one dimension."
      ]
    },
    {
      "cell_type": "markdown",
      "metadata": {
        "id": "m0u1tGN_GQQb"
      },
      "source": [
        "## Indexarea în tablourile `numpy`\n"
      ]
    },
    {
      "cell_type": "markdown",
      "metadata": {
        "id": "v0hagbfdlw06"
      },
      "source": [
        "`pm10_np[:, 0]` va afișa valorile din prima locație ( prima coloană)\n"
      ]
    },
    {
      "cell_type": "code",
      "execution_count": 35,
      "metadata": {
        "colab": {
          "base_uri": "https://localhost:8080/"
        },
        "id": "JhKvpK5iFt94",
        "outputId": "8854d6aa-97ed-4249-d80a-9f92e5eb984c"
      },
      "outputs": [
        {
          "data": {
            "text/plain": [
              "array([24., 35., 40.,  7., 10., 18., 21., 36., 18., 14.,  9., 30., 15.,\n",
              "       28., 36., 23., 18., 25., 21.,  8., 15., 15.,  8., 21., 19., 38.,\n",
              "       15., 13., 59., 32., 53.,  9., 38., 11., 11., 34., 58., 12., 13.,\n",
              "       16., 12., 12., 16.,  6., 17., 23.,  6., 39.,  8., 10., 28., 34.,\n",
              "       30., 22.,  6., 18., 13.,  9.,  7., 24., 27.,  7.])"
            ]
          },
          "execution_count": 35,
          "metadata": {},
          "output_type": "execute_result"
        }
      ],
      "source": [
        "# Let's print the values for the first location.\n",
        "pm10_np[:, 0]  # print all the values on the first column"
      ]
    },
    {
      "cell_type": "markdown",
      "metadata": {
        "id": "nbaYtFcVmkDQ"
      },
      "source": [
        "Afișarea valorilor măsurate pentru toate locațiile, în prima zi.\n"
      ]
    },
    {
      "cell_type": "code",
      "execution_count": 36,
      "metadata": {
        "colab": {
          "base_uri": "https://localhost:8080/"
        },
        "id": "MxqeLsHnGYb4",
        "outputId": "5f9b15ee-3751-441d-da2b-39d28ebf7031"
      },
      "outputs": [
        {
          "data": {
            "text/plain": [
              "array([24., 28., 24., 11., 24., 33., 28., 34., 14., 18., 14., 21., 18.,\n",
              "       10., 49., 11., 13.])"
            ]
          },
          "execution_count": 36,
          "metadata": {},
          "output_type": "execute_result"
        }
      ],
      "source": [
        "# Print the values for all locations for the first day\n",
        "pm10_np[0]  # this is equivalent to writing pm10_np[0, :]"
      ]
    },
    {
      "cell_type": "markdown",
      "metadata": {
        "id": "e4NkjLWNmxJC"
      },
      "source": [
        "Afișarea valorilor măsurate pentru toate locațiile, în ultima zi.\n"
      ]
    },
    {
      "cell_type": "code",
      "execution_count": null,
      "metadata": {
        "colab": {
          "base_uri": "https://localhost:8080/"
        },
        "id": "BzXXJfwVGwcW",
        "outputId": "b93f50c2-ea73-42a7-eabc-158602be3c04"
      },
      "outputs": [
        {
          "data": {
            "text/plain": [
              "array([16., 26., 23., 29., 28., 61., 39., 25., 41., 26., 56., 42., 32.,\n",
              "       23., 19., 38., 44.])"
            ]
          },
          "execution_count": 16,
          "metadata": {
            "tags": []
          },
          "output_type": "execute_result"
        }
      ],
      "source": [
        "# Print the values for all locations for the last day\n",
        "pm10_np[-1]"
      ]
    },
    {
      "cell_type": "markdown",
      "metadata": {
        "id": "TKOJjiSLm4Iw"
      },
      "source": [
        "Afișarea valorilor măsurate pentru ultima locație, în primele 7 zile.\n"
      ]
    },
    {
      "cell_type": "code",
      "execution_count": null,
      "metadata": {
        "colab": {
          "base_uri": "https://localhost:8080/"
        },
        "id": "eB3Z-vQrJRt0",
        "outputId": "e2e33f62-0c19-4b26-9b31-b48394b915b6"
      },
      "outputs": [
        {
          "data": {
            "text/plain": [
              "array([11.,  9., 13., 14., 17., 12., 10.])"
            ]
          },
          "execution_count": 17,
          "metadata": {
            "tags": []
          },
          "output_type": "execute_result"
        }
      ],
      "source": [
        "# Print the values for the last location, for the first seven days\n",
        "pm10_np[:7, -1]"
      ]
    },
    {
      "cell_type": "markdown",
      "metadata": {
        "id": "mfHIippbnCBv"
      },
      "source": [
        "Afișarea valorilor măsurate pentru a treia locație, în toate zilele.\n",
        "În comentariu verificăm dimensiunea pentru a fi siguri că numărul de elemente este cel corect.\n"
      ]
    },
    {
      "cell_type": "code",
      "execution_count": null,
      "metadata": {
        "colab": {
          "base_uri": "https://localhost:8080/"
        },
        "id": "H0sNz75OLWn6",
        "outputId": "c4c5b7b2-25eb-46c4-db7f-357f852de377"
      },
      "outputs": [
        {
          "data": {
            "text/plain": [
              "array([ 8.,  8., 14., 10., 16., 12., 19., 27., 22., 23., 26., 27., 22.,\n",
              "       20., 21., 31., 24., 29., 49., 28., 21., 18., 15., 24., 23., 22.,\n",
              "       22., 35., 33., 36., 25.])"
            ]
          },
          "execution_count": 18,
          "metadata": {
            "tags": []
          },
          "output_type": "execute_result"
        }
      ],
      "source": [
        "# Access the values in the 3rd location every other day\n",
        "pm10_np[::2, 2]\n",
        "# Check the shape to make sure it has the number of elements you expect\n",
        "# pm10_np[::2, 2].shape"
      ]
    },
    {
      "cell_type": "code",
      "execution_count": null,
      "metadata": {
        "colab": {
          "base_uri": "https://localhost:8080/"
        },
        "id": "SjnczsWr9bwF",
        "outputId": "a0db4fc6-18e0-47da-de23-c90d4f388c08"
      },
      "outputs": [
        {
          "data": {
            "text/plain": [
              "array([ 9.,  7.,  8., 10., 10., 10.,  8.,  8., 12., 12.])"
            ]
          },
          "execution_count": 19,
          "metadata": {
            "tags": []
          },
          "output_type": "execute_result"
        }
      ],
      "source": [
        "pm10_np[:10, 0]"
      ]
    },
    {
      "cell_type": "markdown",
      "metadata": {
        "id": "oMzTf_CBJs9k"
      },
      "source": [
        "## Indexarea cu valori logice (boolean)\n"
      ]
    },
    {
      "cell_type": "markdown",
      "metadata": {
        "id": "6hqKtRxfbrkr"
      },
      "source": [
        "Ne propunem să aflăm în câte zile valoarile măsurate pentru pm10 sunt peste un anumit prag. Vom atribui pragului o valoare pentru ca apoi să generăm o mască logică pentru fiecare index.\n"
      ]
    },
    {
      "cell_type": "code",
      "execution_count": 37,
      "metadata": {
        "id": "NhZx1ZxPJjhK"
      },
      "outputs": [],
      "source": [
        "# Let's assume we want to know in how many days the pm10 value was above some\n",
        "# critical threshold.\n",
        "# Define threshold\n",
        "th = 60\n",
        "# Generate boolean mask to index the array\n",
        "bmask = pm10_np > th"
      ]
    },
    {
      "cell_type": "markdown",
      "metadata": {
        "id": "kbBME-FMclKj"
      },
      "source": [
        "Afișăm valorile, după aplicarea măștii logice\n"
      ]
    },
    {
      "cell_type": "code",
      "execution_count": 38,
      "metadata": {
        "colab": {
          "base_uri": "https://localhost:8080/"
        },
        "id": "5alKHUx6Ki8V",
        "outputId": "4b7b6e71-f6c5-477a-a070-3ba6b953a959"
      },
      "outputs": [
        {
          "data": {
            "text/plain": [
              "array([[False, False, False, ..., False, False, False],\n",
              "       [False, False, False, ..., False, False, False],\n",
              "       [False, False, False, ..., False, False, False],\n",
              "       ...,\n",
              "       [False, False, False, ..., False, False, False],\n",
              "       [False, False, False, ..., False, False, False],\n",
              "       [False, False, False, ..., False, False, False]], shape=(62, 17))"
            ]
          },
          "execution_count": 38,
          "metadata": {},
          "output_type": "execute_result"
        }
      ],
      "source": [
        "# print the mask to see what it looks like\n",
        "bmask"
      ]
    },
    {
      "cell_type": "markdown",
      "metadata": {
        "id": "FKE3Eo75c42i"
      },
      "source": [
        "Pentru a număra zilele în care a fost depășit pragul, însumăm valorile din masca logică. `False` va avea valoarea 0 și `True` valoarea 1\n"
      ]
    },
    {
      "cell_type": "code",
      "execution_count": 39,
      "metadata": {
        "colab": {
          "base_uri": "https://localhost:8080/"
        },
        "id": "Nin2YFSSKsIV",
        "outputId": "ce1d4d52-660d-4934-ef27-d9bab064c2a8"
      },
      "outputs": [
        {
          "data": {
            "text/plain": [
              "np.int64(3)"
            ]
          },
          "execution_count": 39,
          "metadata": {},
          "output_type": "execute_result"
        }
      ],
      "source": [
        "# To count the number of days above the threshold, we can sum over the mask.\n",
        "# False will be considered 0 and True is 1.\n",
        "bmask.sum()"
      ]
    },
    {
      "cell_type": "markdown",
      "metadata": {
        "id": "avix2k8sdRh7"
      },
      "source": [
        "Pentru a vedea valorile care depășesc pragul:\n"
      ]
    },
    {
      "cell_type": "code",
      "execution_count": 41,
      "metadata": {
        "colab": {
          "base_uri": "https://localhost:8080/"
        },
        "id": "I-3WkzOlLDU9",
        "outputId": "70ec25d2-d255-4f40-e8c5-882a1725c743"
      },
      "outputs": [
        {
          "data": {
            "text/plain": [
              "array([61., 62., 81.])"
            ]
          },
          "execution_count": 41,
          "metadata": {},
          "output_type": "execute_result"
        }
      ],
      "source": [
        "# To actually see the values:\n",
        "pm10_np[bmask]"
      ]
    },
    {
      "cell_type": "markdown",
      "metadata": {
        "id": "tjZjO1lQHiQP"
      },
      "source": [
        "## Cozile și tablourile `numpy`\n"
      ]
    },
    {
      "cell_type": "markdown",
      "metadata": {
        "id": "YgGjAs_qdZxz"
      },
      "source": [
        "Pentru simplificare, putem crea un singur tablou multi-dimensional pentru toți indicatorii. Vom folosi o strcutură de tip stivă pentru crearea unui tablou tridimensional. Pentru aceasta, trebuie să specificăm dimensiunea la care ne raportăm în crearea stivei, folosind parametrul `axis`.\n",
        "Se va genera o eroare deoarece cele 3 tablouri pe care încercăm să le adăugăm în stivă nu au aceeași lungime (`shape`)\n"
      ]
    },
    {
      "cell_type": "code",
      "execution_count": 45,
      "metadata": {
        "colab": {
          "base_uri": "https://localhost:8080/",
          "height": 374
        },
        "id": "i3Ij9l9jGATs",
        "outputId": "662259c8-b5de-43dc-afa5-5403ddde3ab1"
      },
      "outputs": [
        {
          "data": {
            "text/plain": [
              "(62, 17, 3)"
            ]
          },
          "execution_count": 45,
          "metadata": {},
          "output_type": "execute_result"
        }
      ],
      "source": [
        "# For convenience, we can create a single multi-dim array for all the indicators\n",
        "# using 'stack' to create a 3D array. We have to indicate the dimension\n",
        "# along which to stack using 'axis' parameter.\n",
        "# (this results in an error, see below)\n",
        "pm10_np = pm10_np.reshape([num_days, num_locations], order=\"F\")\n",
        "so2_np = so2_np.reshape([num_days, num_locations], order=\"F\")\n",
        "temperature_np = temperature_np.reshape([num_days, num_locations], order=\"F\")\n",
        "\n",
        "all_vals = np.stack([pm10_np, so2_np, temperature_np], axis=-1)\n",
        "all_vals.shape"
      ]
    },
    {
      "cell_type": "markdown",
      "metadata": {
        "id": "-85cuXxue0gq"
      },
      "source": [
        "Vom modifica tablourile `so2_np` și `temperature_np` pentru a avea aceeași structură cu a tabloului `pm10_np`\n"
      ]
    },
    {
      "cell_type": "code",
      "execution_count": null,
      "metadata": {
        "id": "D3n56d1HIfbu"
      },
      "outputs": [],
      "source": [
        "# The above results in an error, as the arrays we try to stack do not have\n",
        "# the same shape. We first need to reshape 'so2_np', 'temperature_np', to have\n",
        "# the same shape as pm10_np\n",
        "# so2_np = so2_np.reshape([-1, num_locations], order=\"F\")\n",
        "# temperature_np = temperature_np.reshape([num_days, -1], order=\"F\")"
      ]
    },
    {
      "cell_type": "markdown",
      "metadata": {
        "id": "r6QGMnvafbY5"
      },
      "source": [
        "Modificarea se poate face și direct, prin copierea structurii.\n"
      ]
    },
    {
      "cell_type": "code",
      "execution_count": null,
      "metadata": {
        "id": "VBL_E2EpL-SS"
      },
      "outputs": [],
      "source": [
        "# Note that we could have also used this since we want these arrays to have the\n",
        "# same shape\n",
        "# so2_np = so2_np.reshape(pm10_np.shape)"
      ]
    },
    {
      "cell_type": "markdown",
      "metadata": {
        "id": "71g53eVjfmGx"
      },
      "source": [
        "Acum putem adăuga valorile în stivă.\n"
      ]
    },
    {
      "cell_type": "code",
      "execution_count": null,
      "metadata": {
        "id": "Dh5nV7JEI4vb"
      },
      "outputs": [],
      "source": [
        "# Now try again to stack\n",
        "# all_vals = np.stack([pm10_np, so2_np, temperature_np], axis=-1)"
      ]
    },
    {
      "cell_type": "markdown",
      "metadata": {
        "id": "aAZeXKdvfxdC"
      },
      "source": [
        "O verificare a structurii ne va arată 62 de zile, pentru 17 orașe si 3 indicatori.\n"
      ]
    },
    {
      "cell_type": "code",
      "execution_count": 46,
      "metadata": {
        "colab": {
          "base_uri": "https://localhost:8080/"
        },
        "id": "mkkjaOGqIRwZ",
        "outputId": "f412658a-8b85-4cbe-f19b-162eeb902959"
      },
      "outputs": [
        {
          "data": {
            "text/plain": [
              "(62, 17, 3)"
            ]
          },
          "execution_count": 46,
          "metadata": {},
          "output_type": "execute_result"
        }
      ],
      "source": [
        "# Check the shape\n",
        "all_vals.shape"
      ]
    },
    {
      "cell_type": "markdown",
      "metadata": {
        "id": "WDTM-E0fMftO"
      },
      "source": [
        "## Operații cu dimensiuni\n"
      ]
    },
    {
      "cell_type": "markdown",
      "metadata": {
        "id": "WJUwnMBvf-wE"
      },
      "source": [
        "După adăugarea în stivă, putem efectua seturi suplimentare de calcule.\n"
      ]
    },
    {
      "cell_type": "markdown",
      "metadata": {
        "id": "nHy55J3ngUoZ"
      },
      "source": [
        "> Media aritmetică a valorilor ${PM_{10}}$ în toate orașele, pentru toate zilele:\n"
      ]
    },
    {
      "cell_type": "code",
      "execution_count": 47,
      "metadata": {
        "colab": {
          "base_uri": "https://localhost:8080/"
        },
        "id": "K6zAcRkoMc4p",
        "outputId": "fb5b360b-af4b-4ea0-ca7e-6dade5e05a49"
      },
      "outputs": [
        {
          "data": {
            "text/plain": [
              "np.float64(11.539848197343453)"
            ]
          },
          "execution_count": 47,
          "metadata": {},
          "output_type": "execute_result"
        }
      ],
      "source": [
        "# Let's see the average over all pm10 levels in all cities over all days\n",
        "np.mean(all_vals[:, :, 2])"
      ]
    },
    {
      "cell_type": "markdown",
      "metadata": {
        "id": "Xh_ne5L1gljX"
      },
      "source": [
        "> Media artimetică a valorilor ${PM_{10}}$ pentru fiecare oraș:\n"
      ]
    },
    {
      "cell_type": "code",
      "execution_count": 48,
      "metadata": {
        "colab": {
          "base_uri": "https://localhost:8080/"
        },
        "id": "ukXeemw8M5m0",
        "outputId": "c10c0730-ceaf-443d-9171-b76893e18cdb"
      },
      "outputs": [
        {
          "data": {
            "text/plain": [
              "array([20.96774194, 19.9516129 , 21.08064516, 19.43548387, 21.35483871,\n",
              "       20.82258065, 20.30645161, 20.80645161, 20.37096774, 18.91935484,\n",
              "       21.33870968, 20.80645161, 20.58064516, 20.35483871, 23.24193548,\n",
              "       24.11290323, 18.79032258])"
            ]
          },
          "execution_count": 48,
          "metadata": {},
          "output_type": "execute_result"
        }
      ],
      "source": [
        "# Let's see the average over all pm10 levels in every city\n",
        "np.mean(all_vals[:, :, 0], axis=0)"
      ]
    },
    {
      "cell_type": "markdown",
      "metadata": {
        "id": "YYt1RrVPguHR"
      },
      "source": [
        "> Cele mai mari valori înregistrate în fiecare oraș:\n"
      ]
    },
    {
      "cell_type": "code",
      "execution_count": 49,
      "metadata": {
        "colab": {
          "base_uri": "https://localhost:8080/"
        },
        "id": "Luk-f4xNOq-e",
        "outputId": "dc2a3ee7-b31e-4204-cc13-48a522762d18"
      },
      "outputs": [
        {
          "data": {
            "text/plain": [
              "array([59., 57., 51., 59., 57., 61., 55., 58., 55., 53., 81., 54., 55.,\n",
              "       46., 49., 62., 60.])"
            ]
          },
          "execution_count": 49,
          "metadata": {},
          "output_type": "execute_result"
        }
      ],
      "source": [
        "# Let's see the maximum levels per city\n",
        "np.max(all_vals[:, :, 0], axis=0)"
      ]
    },
    {
      "cell_type": "markdown",
      "metadata": {
        "id": "SN60jDDEJwS6"
      },
      "source": [
        "## Vizualizare\n"
      ]
    },
    {
      "cell_type": "markdown",
      "metadata": {
        "id": "hs-3jt8mg6nY"
      },
      "source": [
        "Vom reprezenta grafic valorile ${PM_{10}}$ înregistrate pentru toate locațiile, în toate zilele: folosim culori deschise pentru valorile mari și culori mai închise pentru valorile scăzute.\n"
      ]
    },
    {
      "cell_type": "code",
      "execution_count": 50,
      "metadata": {
        "colab": {
          "base_uri": "https://localhost:8080/",
          "height": 295
        },
        "id": "Ydb7ds4LR5kd",
        "outputId": "15263bbb-6cbd-4ab1-8ad4-c0640fea09fa"
      },
      "outputs": [
        {
          "data": {
            "image/png": "[encoded data removed]",
            "text/plain": [
              "<Figure size 640x480 with 1 Axes>"
            ]
          },
          "metadata": {},
          "output_type": "display_data"
        }
      ],
      "source": [
        "# We can plot the data for all locations in all days to have a global view.\n",
        "# Using 'hot' as colourmap will draw in bright colours the large values and in\n",
        "# dark colours the low values.\n",
        "import matplotlib.pyplot as plt\n",
        "\n",
        "plt.imshow(pm10_np, cmap=\"hot\", interpolation=\"nearest\")\n",
        "plt.xlabel(\"Locations\")\n",
        "plt.ylabel(\"Days\")\n",
        "plt.title(\"PM10 between end of December 2020 and end of February 2021\")\n",
        "plt.show()"
      ]
    },
    {
      "cell_type": "markdown",
      "metadata": {
        "id": "HdUakGLyhqJw"
      },
      "source": [
        "Reprezentarea pentru ${SO_2}$ este:\n"
      ]
    },
    {
      "cell_type": "code",
      "execution_count": 51,
      "metadata": {
        "colab": {
          "base_uri": "https://localhost:8080/",
          "height": 295
        },
        "id": "e0wVSCjIFEYU",
        "outputId": "a29682ee-a8e9-4eca-d36a-c1882fe61aa9"
      },
      "outputs": [
        {
          "data": {
            "image/png": "[encoded data removed]",
            "text/plain": [
              "<Figure size 640x480 with 1 Axes>"
            ]
          },
          "metadata": {},
          "output_type": "display_data"
        }
      ],
      "source": [
        "# let's look at SO2 levels\n",
        "plt.imshow(so2_np, cmap=\"hot\", interpolation=\"nearest\")\n",
        "plt.xlabel(\"Locations\")\n",
        "plt.ylabel(\"Days\")\n",
        "plt.title(\"SO2 between end of December 2020 and end of February 2021\")\n",
        "plt.show()"
      ]
    },
    {
      "cell_type": "markdown",
      "metadata": {
        "id": "Oxs7AMmmhvCg"
      },
      "source": [
        "Reprezentarea pentru temperatură:\n"
      ]
    },
    {
      "cell_type": "code",
      "execution_count": 52,
      "metadata": {
        "colab": {
          "base_uri": "https://localhost:8080/",
          "height": 295
        },
        "id": "i7APYNavDDka",
        "outputId": "055fc0d6-b880-4fed-ad1d-58a42bb61dae"
      },
      "outputs": [
        {
          "data": {
            "image/png": "[encoded data removed]",
            "text/plain": [
              "<Figure size 640x480 with 1 Axes>"
            ]
          },
          "metadata": {},
          "output_type": "display_data"
        }
      ],
      "source": [
        "# let's look at the temperature as well\n",
        "plt.imshow(temperature_np, cmap=\"hot\", interpolation=\"nearest\")\n",
        "plt.xlabel(\"Locations\")\n",
        "plt.ylabel(\"Days\")\n",
        "plt.title(\"Temperature between end of December 2020 and end of February 2021\")\n",
        "plt.show()"
      ]
    },
    {
      "cell_type": "markdown",
      "metadata": {
        "id": "hIW31zhKFRVf"
      },
      "source": [
        "Se poate observa o coloana atipică în reprezentarea de mai sus. Aceasta corespunde orașului Brașov, valorile fiind într-adevăr eronate, probabil din cauza unui senzor defect.\n",
        "\n",
        "Analiza reprezentării grafice face posibilă identificare mai rapidă a erorilor pentru a le corecta.\n"
      ]
    },
    {
      "cell_type": "markdown",
      "metadata": {
        "id": "wuhbKr5Ji4xS"
      },
      "source": [
        "Vom reprezenta grafic, cu ajutorul culorilor, valorile _sigure_ (în nuanțe de albastru-verde) și pe cele _periculoase_ (culoare roșie).\n",
        "De exemplu, pentru ${PM_{10}}$, legislația UE consideră că valorile mai mici de 40 de microni sunt sigure.\n"
      ]
    },
    {
      "cell_type": "code",
      "execution_count": 53,
      "metadata": {
        "id": "0OtwD9HZNxJT"
      },
      "outputs": [],
      "source": [
        "# @title Personalizarea culorilor din hărți\n",
        "# Helper class to allow us to set the colour levels we want, i.e. to say when\n",
        "# a value is dangerous.\n",
        "import matplotlib.colors as colors\n",
        "\n",
        "\n",
        "class MidpointNormalize(colors.Normalize):\n",
        "    \"\"\"\n",
        "          Normalise the colorbar so that diverging bars work there way either side from\n",
        "    a prescribed midpoint value)\n",
        "\n",
        "          e.g. im=ax1.imshow(array, norm=MidpointNormalize(midpoint=0.,vmin=-100, vmax=100))\n",
        "    \"\"\"\n",
        "\n",
        "    def __init__(self, vmin=None, vmax=None, midpoint=None, clip=False):\n",
        "        self.midpoint = midpoint\n",
        "        colors.Normalize.__init__(self, vmin, vmax, clip)\n",
        "\n",
        "    def __call__(self, value, clip=None):\n",
        "        # I'm ignoring masked values and all kinds of edge cases to make a\n",
        "        # simple example...\n",
        "        x, y = [self.vmin, self.midpoint, self.vmax], [0, 0.5, 1]\n",
        "        return np.ma.masked_array(np.interp(value, x, y), np.isnan(value))"
      ]
    },
    {
      "cell_type": "code",
      "execution_count": 55,
      "metadata": {
        "colab": {
          "base_uri": "https://localhost:8080/",
          "height": 295
        },
        "id": "iOEFZZeYJ9MV",
        "outputId": "8ca50cea-5779-4278-e073-e75d8f73e797"
      },
      "outputs": [
        {
          "data": {
            "image/png": "[encoded data removed]",
            "text/plain": [
              "<Figure size 640x480 with 1 Axes>"
            ]
          },
          "metadata": {},
          "output_type": "display_data"
        }
      ],
      "source": [
        "# plt.imshow(pm10_np, cmap='seismic', interpolation='nearest')\n",
        "plt.imshow(pm10_np, cmap=\"seismic\", norm=MidpointNormalize(midpoint=40))\n",
        "plt.xlabel(\"Locations\")\n",
        "plt.ylabel(\"Days\")\n",
        "plt.title(\"PM10 between end of December 2020 and end of February 2021\")\n",
        "plt.show()"
      ]
    },
    {
      "cell_type": "markdown",
      "metadata": {
        "id": "wSMZX8k8leOB"
      },
      "source": [
        "Afișarea datelor pentru un anumit oraș: București - al șaselea în lista\n"
      ]
    },
    {
      "cell_type": "code",
      "execution_count": 56,
      "metadata": {
        "colab": {
          "base_uri": "https://localhost:8080/",
          "height": 281
        },
        "id": "YFxW4FvUPkZN",
        "outputId": "c470d897-82b5-4b21-d59f-e07614ec493a"
      },
      "outputs": [
        {
          "data": {
            "image/png": "[encoded data removed]",
            "text/plain": [
              "<Figure size 640x480 with 1 Axes>"
            ]
          },
          "metadata": {},
          "output_type": "display_data"
        }
      ],
      "source": [
        "# plot the values for a particular city, e.g. Bucharest, 6th in the list\n",
        "import datetime\n",
        "\n",
        "points = pm10_np[:, 5]\n",
        "# to display in red the days with dangerous values, we use boolean indexing\n",
        "mask_safe = np.array(points < 40)\n",
        "mask_unsafe = np.array(points >= 40)\n",
        "plt.bar(\n",
        "    np.array(range(len(points)))[mask_safe], points[mask_safe], width=0.4, color=\"b\"\n",
        ")\n",
        "plt.bar(\n",
        "    np.array(range(len(points)))[mask_unsafe], points[mask_unsafe], width=0.4, color=\"r\"\n",
        ")\n",
        "plt.title(\"PM10 values in Bucharest\")\n",
        "plt.show()"
      ]
    },
    {
      "cell_type": "markdown",
      "metadata": {
        "id": "UoltChYlnvrn"
      },
      "source": [
        "Afișarea detelor pentru Arad, primul în listă:\n"
      ]
    },
    {
      "cell_type": "code",
      "execution_count": 57,
      "metadata": {
        "colab": {
          "base_uri": "https://localhost:8080/",
          "height": 281
        },
        "id": "QaOk-7uJXTGp",
        "outputId": "d0a8d728-df12-46ef-bc34-2051b843b520"
      },
      "outputs": [
        {
          "data": {
            "image/png": "[encoded data removed]",
            "text/plain": [
              "<Figure size 640x480 with 1 Axes>"
            ]
          },
          "metadata": {},
          "output_type": "display_data"
        }
      ],
      "source": [
        "# compare this to e.g. Arad, 1st in the list\n",
        "import datetime\n",
        "\n",
        "points = pm10_np[:, 0]\n",
        "mask_safe = np.array(points < 40)\n",
        "mask_unsafe = np.array(points >= 40)\n",
        "plt.bar(\n",
        "    np.array(range(len(points)))[mask_safe], points[mask_safe], width=0.4, color=\"b\"\n",
        ")\n",
        "plt.bar(\n",
        "    np.array(range(len(points)))[mask_unsafe], points[mask_unsafe], width=0.4, color=\"r\"\n",
        ")\n",
        "plt.title(\"PM10 values in Arad\")\n",
        "plt.show()"
      ]
    },
    {
      "cell_type": "markdown",
      "metadata": {
        "id": "V9CfirIvS5oh"
      },
      "source": [
        "## Temă\n",
        "\n",
        "Fiind date coordonatele (latitudine, longitudine) mai multor locații, să se creeze și să se afișeze o hartă pentru diferiți indicatori\n"
      ]
    },
    {
      "cell_type": "code",
      "execution_count": null,
      "metadata": {
        "id": "AydCRH7WJH4P"
      },
      "outputs": [],
      "source": [
        "# locations latitude and longitude\n",
        "locations = {}\n",
        "locations[f\"Ploiești\"] = (44.9333, 26.0333)\n",
        "locations[f\"Craiova\"] = (44.3193, 23.8006)\n",
        "locations[f\"Bacău\"] = (46.5688, 26.9160)\n",
        "locations[f\"Râmnicu Vâlcea\"] = (45.0997, 24.3693)\n",
        "locations[f\"Sibiu\"] = (45.7936, 24.1213)\n",
        "locations[f\"Timișoara\"] = (45.7606, 21.2267)\n",
        "locations[f\"Piteşti\"] = (44.8565, 24.8692)\n",
        "locations[f\"Arad\"] = (46.1866, 21.3123)\n",
        "locations[f\"Cluj-Napoca\"] = (46.7704, 23.5914)\n",
        "locations[f\"Bucharest\"] = (44.4396, 26.0963)\n",
        "locations[f\"Baia Mare\"] = (47.6567, 23.5850)\n",
        "locations[f\"Oradea\"] = (47.0465, 21.9189)\n",
        "locations[f\"Galaţi\"] = (45.4353, 28.0080)\n",
        "locations[f\"Brașov\"] = (45.6579, 25.6011)\n",
        "locations[f\"Iași\"] = (47.1635, 27.5825)\n",
        "locations[f\"Constanţa\"] = (44.1598, 28.6348)\n",
        "locations[f\"Brăila\"] = (45.2652, 27.9595)"
      ]
    },
    {
      "cell_type": "markdown",
      "metadata": {
        "id": "bSNi0aLs03J1"
      },
      "source": [
        "# Mai multe despre `numpy`\n"
      ]
    },
    {
      "cell_type": "markdown",
      "metadata": {
        "id": "-91CbFsHdlut"
      },
      "source": [
        "##Broadcasting\n"
      ]
    },
    {
      "cell_type": "code",
      "execution_count": null,
      "metadata": {
        "id": "5sAv_Vb2qWzG"
      },
      "outputs": [],
      "source": [
        "import numpy as np\n",
        "\n",
        "ar = np.array([[0, 1], [6, 2]])"
      ]
    },
    {
      "cell_type": "markdown",
      "metadata": {
        "id": "ZfhEISUy2PWD"
      },
      "source": [
        "Termenul _broadcasting_ se referă la abilitatea `NumPy` de a lucra cu tablouri de diferite dimensiuni în cadrul operațiilor aritmetice. În matematică, calculele sunt posibile între tablouri de aceleași dimensiuni. În Python, dacă două tablouri nu au aceeași dimensiune, operația se va efectua prin adaptarea dimensiunilor astfel încât să devină posibilă efectuarea calculului aritmetic.\n"
      ]
    },
    {
      "cell_type": "code",
      "execution_count": null,
      "metadata": {
        "colab": {
          "base_uri": "https://localhost:8080/"
        },
        "id": "GLCN0umLxuLv",
        "outputId": "44d1c6ef-4ee5-4b9f-9b42-a5924bd030ae"
      },
      "outputs": [
        {
          "data": {
            "text/plain": [
              "array([[0. , 1. ],\n",
              "       [3.5, 2. ]])"
            ]
          },
          "execution_count": 42,
          "metadata": {
            "tags": []
          },
          "output_type": "execute_result"
        }
      ],
      "source": [
        "np.minimum(ar, 3.5)"
      ]
    },
    {
      "cell_type": "markdown",
      "metadata": {
        "id": "Kmq7Yf_73GgC"
      },
      "source": [
        "Numpy convertește automat valoarea numerică `3.5` într-un tablou cu aceeași dimensiune cu a tabloului `ar`. Transformarea este necesară pentru a putea calcula valoarea minimă.\n",
        "\n",
        "![table](https://drive.google.com/uc?export=view&id=174Yjs08xsE4Rz7dt2k5CFT8wy7ppddSY)\n"
      ]
    },
    {
      "cell_type": "markdown",
      "metadata": {
        "id": "vkM1cL-pBrEE"
      },
      "source": [
        "Conversia implicită poate scuti scrierea liniilor de cod, dar în cazuri mai complexe trebuie să se înțeleagă bine regulile aplicate.\n",
        "\n",
        "Câteva referințe puteți găsi la:\n",
        "\n",
        "- [Pagina Numpy despre conversie - broadcasting](https://docs.scipy.org/doc/numpy-1.13.0/user/basics.broadcasting.html)\n",
        "- [Broadcasting cu exemple vizuale](http://scipy.github.io/old-wiki/pages/EricsBroadcastingDoc)\n"
      ]
    },
    {
      "cell_type": "markdown",
      "metadata": {
        "id": "whACLAjPrLpI"
      },
      "source": [
        "> În continuare vom oferi câteva exemple utile de conversii.\n"
      ]
    },
    {
      "cell_type": "code",
      "execution_count": null,
      "metadata": {
        "colab": {
          "base_uri": "https://localhost:8080/"
        },
        "id": "S52hBSnG5JRa",
        "outputId": "2d45223b-6679-40f4-cbce-39582b252032"
      },
      "outputs": [
        {
          "name": "stdout",
          "output_type": "stream",
          "text": [
            "centered array:\n",
            " [[-2.25 -1.25]\n",
            " [ 3.75 -0.25]]\n"
          ]
        }
      ],
      "source": [
        "# Centering our array.\n",
        "print(\"centered array:\\n\", ar - np.mean(ar))"
      ]
    },
    {
      "cell_type": "markdown",
      "metadata": {
        "id": "mS5IDFrA6ig3"
      },
      "source": [
        "Observați că `np.mean()`, deși este o valoare numerică, este scăzută automat din fiecare element al tabloului.\n"
      ]
    },
    {
      "cell_type": "markdown",
      "metadata": {
        "id": "KzlVmOY_FPhQ"
      },
      "source": [
        "Putem defini propria funcție pentru calculul valorii minime.\n"
      ]
    },
    {
      "cell_type": "code",
      "execution_count": null,
      "metadata": {
        "colab": {
          "base_uri": "https://localhost:8080/"
        },
        "id": "zatGgBsOFNdF",
        "outputId": "f19b7c97-25f5-4357-f2d7-d558c4bee369"
      },
      "outputs": [
        {
          "data": {
            "text/plain": [
              "array([[0, 1],\n",
              "       [3, 2]])"
            ]
          },
          "execution_count": 44,
          "metadata": {
            "tags": []
          },
          "output_type": "execute_result"
        }
      ],
      "source": [
        "clipped_ar = ar.copy()  # So that ar is not modified.\n",
        "clipped_ar[clipped_ar > 3.5] = 3.5\n",
        "clipped_ar"
      ]
    },
    {
      "cell_type": "markdown",
      "metadata": {
        "id": "SnDqUDgtFyF5"
      },
      "source": [
        "Ce se execută:\n",
        "\n",
        "1. 3.5 este distribuit în relația de inegalitate (>)\n",
        "2. Operatorul > definește un selector care va extrage o submulțime ce respectă condiția >.\n",
        "3. 3.5 a fost distribuit la numărul corect de elemente în atribuire.\n"
      ]
    },
    {
      "cell_type": "markdown",
      "metadata": {
        "id": "QzLtiYXUFN5P"
      },
      "source": [
        "Vectorii pot fi convertiți în matrice.\n"
      ]
    },
    {
      "cell_type": "code",
      "execution_count": null,
      "metadata": {
        "colab": {
          "base_uri": "https://localhost:8080/"
        },
        "id": "n2gv3YVf5JZL",
        "outputId": "e1f021ed-3c8d-4384-816c-e27ef54b9e86"
      },
      "outputs": [
        {
          "data": {
            "text/plain": [
              "array([[1, 3],\n",
              "       [7, 4]])"
            ]
          },
          "execution_count": 45,
          "metadata": {
            "tags": []
          },
          "output_type": "execute_result"
        }
      ],
      "source": [
        "vec = np.array([1, 2])\n",
        "ar + vec"
      ]
    },
    {
      "cell_type": "markdown",
      "metadata": {
        "id": "7ehzlV8J75ar"
      },
      "source": [
        "Dimensiunile tablourilor sunt:\n",
        "\n",
        "```\n",
        "ar     (2d array):  2 x 2\n",
        "vec    (1d array):      2\n",
        "Result (2d array):  2 x 2\n",
        "```\n",
        "\n",
        "Când oricare din dimensiunile comparate este 1 ( chiar și implicit, ca în cazul tabloului `vec`), se folosețte cealaltă dimensiune. Altfel spus, dimnensiunile egale cu 1 sunt ajustate sau copiate astfel încât să se potrivească celorlalte dimensiuni .\n",
        "\n",
        "în cazul de mai sus, linia `[1, 2]` se repetă de mai multe ori pentru a se potrivi numărului de linii din `ar`, pentru ca apoi să se efectueze adunarea.\n"
      ]
    },
    {
      "cell_type": "markdown",
      "metadata": {
        "id": "bBLjzt84A2ZL"
      },
      "source": [
        "Dacă va fi o neconcordanță între dimensiuni, compilarorul va genera eroare.\n"
      ]
    },
    {
      "cell_type": "markdown",
      "metadata": {
        "id": "k16RSwa2C5TA"
      },
      "source": [
        "Decomentatți linia de mai jos și rulați programul.\n"
      ]
    },
    {
      "cell_type": "code",
      "execution_count": null,
      "metadata": {
        "id": "sViqTRjXAWhN"
      },
      "outputs": [],
      "source": [
        "# ar + np.array([[1, 2, 3]])"
      ]
    },
    {
      "cell_type": "markdown",
      "metadata": {
        "id": "K4pvND75AWuG"
      },
      "source": [
        "#### Exercițiu\n",
        "\n",
        "Transformați și însumați vectorul `[10, 20, 30]` în concordanță cu coloanele din tabloul `ar`.\n",
        "\n",
        "Ar trebui să obțineți un rezultat similar cu:\n",
        "\n",
        "```\n",
        "array([[10. , 10.2],\n",
        "       [20.9, 20.5],\n",
        "       [30.3, 30.7]])\n",
        "```\n"
      ]
    },
    {
      "cell_type": "code",
      "execution_count": null,
      "metadata": {
        "id": "gS1X9kt6_pLW"
      },
      "outputs": [],
      "source": [
        "vec = np.array([[10], [20], [30]])\n",
        "ar + vec"
      ]
    },
    {
      "cell_type": "markdown",
      "metadata": {
        "id": "ZQGgpE0i1GVO"
      },
      "source": [
        "##Numere aleatoare\n"
      ]
    },
    {
      "cell_type": "markdown",
      "metadata": {
        "id": "d1xeqjN_eGrM"
      },
      "source": [
        "Sunt situații în care trebuie să generăm numere aleatoare, cum ar fi, de exmplu, inițializarea parametrilor unei rețele neuronale la începutul antrenamentului.\n",
        "În mod normal, calculatoarele nu pot genera cu adevărat numere aleatoare.\n",
        "\n",
        "Mai degrabă se generează valori pseudo-aleatoare, valori ce par a fi alese la întâmplare, deși succesiunea poate fi intuită datorită inițializărilor făcute(cele de pornire).\n",
        "\n",
        "Pentru a genera secvențe aleatoare și calculele reproductibile, trebuie să inițializăm valoarea de pornire și să folosim aceeași valoare.\n",
        "\n",
        "- funcția [`np.random.seed()`](https://docs.scipy.org/doc/numpy/reference/generated/numpy.random.seed.html) inițializează valoarea de start, sau\n",
        "- clasa [`np.random.RandomState`](https://docs.scipy.org/doc/numpy/reference/generated/numpy.random.RandomState.html) , care este un container pentru numere generate pseudo-aleator și oferă metode pentru generarea aleatoare a numerelor.\n"
      ]
    },
    {
      "cell_type": "code",
      "execution_count": null,
      "metadata": {
        "colab": {
          "base_uri": "https://localhost:8080/"
        },
        "id": "knUtcFWoFqK0",
        "outputId": "9e808e1a-ee4e-4817-a7f3-93922ac67eb4"
      },
      "outputs": [
        {
          "name": "stdout",
          "output_type": "stream",
          "text": [
            "   >>  Setting the random seed to 0\n",
            "0.5488135039273248\n",
            "0.7151893663724195\n",
            "0.6027633760716439\n",
            "  >>  Resetting the random seed to 0\n",
            "0.5488135039273248\n",
            "0.7151893663724195\n",
            "0.6027633760716439\n",
            "[[[0.54488318 0.4236548  0.64589411]\n",
            "  [0.43758721 0.891773   0.96366276]]\n",
            "\n",
            " [[0.38344152 0.79172504 0.52889492]\n",
            "  [0.56804456 0.92559664 0.07103606]]]\n"
          ]
        }
      ],
      "source": [
        "np.random.seed(0)\n",
        "print(\"   >>  Setting the random seed to 0\")\n",
        "print(np.random.random())\n",
        "print(np.random.random())\n",
        "print(np.random.random())\n",
        "# Reset the global random state to the same state.\n",
        "np.random.seed(0)\n",
        "print(\"  >>  Resetting the random seed to 0\")\n",
        "print(np.random.random())\n",
        "print(np.random.random())\n",
        "print(np.random.random())\n",
        "\n",
        "# Generating an array of size 2x2x3\n",
        "print(np.random.random(size=(2, 2, 3)))"
      ]
    },
    {
      "cell_type": "markdown",
      "metadata": {
        "id": "Fg8pQswdvO_l"
      },
      "source": [
        "Pentru a permuta aleator o secvență sau pentru a returna o permutare a unui domeniu de valori, vom folosi `random.permutation`\n",
        "\n",
        "> ` random.permutation(x)`\n",
        "\n",
        "Dacă x este un tablou multidimensional, permutarea se va efectua doar de-alungul primului index.\n"
      ]
    },
    {
      "cell_type": "markdown",
      "metadata": {
        "id": "umkglTS1xZrx"
      },
      "source": [
        "Permutarea valorilor dintr-un domeniu de valori:\n"
      ]
    },
    {
      "cell_type": "code",
      "execution_count": null,
      "metadata": {
        "colab": {
          "base_uri": "https://localhost:8080/"
        },
        "id": "mtzywbhWvPhb",
        "outputId": "8a677463-c0ab-4ee0-b630-1fd9cf8d50a1"
      },
      "outputs": [
        {
          "data": {
            "text/plain": [
              "array([9, 4, 2, 7, 6, 0, 5, 8, 1, 3])"
            ]
          },
          "execution_count": 28,
          "metadata": {
            "tags": []
          },
          "output_type": "execute_result"
        }
      ],
      "source": [
        "np.random.permutation(10)"
      ]
    },
    {
      "cell_type": "markdown",
      "metadata": {
        "id": "VfIQfR2TwT3K"
      },
      "source": [
        "Permutarea valorilor dintr-un vector\n"
      ]
    },
    {
      "cell_type": "code",
      "execution_count": null,
      "metadata": {
        "colab": {
          "base_uri": "https://localhost:8080/"
        },
        "id": "J92gDXibwUfC",
        "outputId": "7b82d1f0-6d55-436a-b545-9791ed987178"
      },
      "outputs": [
        {
          "data": {
            "text/plain": [
              "array([ 4, 12, 15,  9,  1])"
            ]
          },
          "execution_count": 29,
          "metadata": {
            "tags": []
          },
          "output_type": "execute_result"
        }
      ],
      "source": [
        "np.random.permutation([1, 4, 9, 12, 15])"
      ]
    },
    {
      "cell_type": "markdown",
      "metadata": {
        "id": "4Y8kq4e1wbSR"
      },
      "source": [
        "Permutarea într-un tablou multi-dimensional\n"
      ]
    },
    {
      "cell_type": "code",
      "execution_count": null,
      "metadata": {
        "colab": {
          "base_uri": "https://localhost:8080/"
        },
        "id": "IBJICBZmwexR",
        "outputId": "72b6a754-d563-43d8-cefa-0f2889296494"
      },
      "outputs": [
        {
          "data": {
            "text/plain": [
              "array([[0, 1, 2],\n",
              "       [3, 4, 5],\n",
              "       [6, 7, 8]])"
            ]
          },
          "execution_count": 34,
          "metadata": {
            "tags": []
          },
          "output_type": "execute_result"
        }
      ],
      "source": [
        "arr = np.arange(9).reshape((3, 3))\n",
        "arr"
      ]
    },
    {
      "cell_type": "code",
      "execution_count": null,
      "metadata": {
        "colab": {
          "base_uri": "https://localhost:8080/"
        },
        "id": "f__5Tdcfw2V5",
        "outputId": "6155cc8c-9e01-4363-c8f0-a925524b7f37"
      },
      "outputs": [
        {
          "data": {
            "text/plain": [
              "array([[6, 7, 8],\n",
              "       [0, 1, 2],\n",
              "       [3, 4, 5]])"
            ]
          },
          "execution_count": 36,
          "metadata": {
            "tags": []
          },
          "output_type": "execute_result"
        }
      ],
      "source": [
        "np.random.permutation(arr)"
      ]
    },
    {
      "cell_type": "markdown",
      "metadata": {
        "id": "ZZ9fW0Y44SIK"
      },
      "source": [
        "# Concluzii\n"
      ]
    },
    {
      "cell_type": "markdown",
      "metadata": {
        "id": "6zaiiXZx4T0P"
      },
      "source": [
        "Ne-am familiarizat cu `numpy`, o librărie Python puternică pentru operarea tablourilor multi-dimensionale.\n",
        "Împreună cu librăria `matplotlib` studiată în lecția anterioară, se pot crea unelte vizuale utile în investigarea datelor multi-dimensionale.\n"
      ]
    }
  ],
  "metadata": {
    "colab": {
      "provenance": [],
      "toc_visible": true
    },
    "kernelspec": {
      "display_name": "OAI",
      "language": "python",
      "name": "python3"
    },
    "language_info": {
      "codemirror_mode": {
        "name": "ipython",
        "version": 3
      },
      "file_extension": ".py",
      "mimetype": "text/x-python",
      "name": "python",
      "nbconvert_exporter": "python",
      "pygments_lexer": "ipython3",
      "version": "3.12.9"
    }
  },
  "nbformat": 4,
  "nbformat_minor": 0
}

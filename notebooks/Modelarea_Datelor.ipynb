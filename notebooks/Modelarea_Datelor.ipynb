{
  "cells": [
    {
      "cell_type": "markdown",
      "metadata": {
        "id": "ctirdQlGYrf1"
      },
      "source": [
        "# Modelarea Datelor\n"
      ]
    },
    {
      "cell_type": "markdown",
      "metadata": {
        "id": "GanYEyvSZM4H"
      },
      "source": [
        "## Pandas\n",
        "\n",
        "Pandas este o librărie Python utilizată pentru a lucra cu date tabulare. Pentru a crea dataframe-ul putem citi datele dintr-un fișier (excel, csv etc.) sau pornind de la un dicționar. Documentația completă poate fi citită aici: https://pandas.pydata.org/docs/index.html\n"
      ]
    },
    {
      "cell_type": "code",
      "execution_count": 1,
      "metadata": {
        "colab": {
          "base_uri": "https://localhost:8080/",
          "height": 143
        },
        "id": "roKnef4vknqi",
        "outputId": "4ff19ab7-98f1-4eee-c792-b84a966430d8"
      },
      "outputs": [
        {
          "data": {
            "text/html": [
              "<div>\n",
              "<style scoped>\n",
              "    .dataframe tbody tr th:only-of-type {\n",
              "        vertical-align: middle;\n",
              "    }\n",
              "\n",
              "    .dataframe tbody tr th {\n",
              "        vertical-align: top;\n",
              "    }\n",
              "\n",
              "    .dataframe thead th {\n",
              "        text-align: right;\n",
              "    }\n",
              "</style>\n",
              "<table border=\"1\" class=\"dataframe\">\n",
              "  <thead>\n",
              "    <tr style=\"text-align: right;\">\n",
              "      <th></th>\n",
              "      <th>cars</th>\n",
              "      <th>passings</th>\n",
              "    </tr>\n",
              "  </thead>\n",
              "  <tbody>\n",
              "    <tr>\n",
              "      <th>0</th>\n",
              "      <td>BMW</td>\n",
              "      <td>3</td>\n",
              "    </tr>\n",
              "    <tr>\n",
              "      <th>1</th>\n",
              "      <td>Volvo</td>\n",
              "      <td>7</td>\n",
              "    </tr>\n",
              "    <tr>\n",
              "      <th>2</th>\n",
              "      <td>Ford</td>\n",
              "      <td>2</td>\n",
              "    </tr>\n",
              "  </tbody>\n",
              "</table>\n",
              "</div>"
            ],
            "text/plain": [
              "    cars  passings\n",
              "0    BMW         3\n",
              "1  Volvo         7\n",
              "2   Ford         2"
            ]
          },
          "execution_count": 1,
          "metadata": {},
          "output_type": "execute_result"
        }
      ],
      "source": [
        "import pandas as pd\n",
        "\n",
        "my_dict = {\"cars\": [\"BMW\", \"Volvo\", \"Ford\"], \"passings\": [3, 7, 2]}\n",
        "\n",
        "df = pd.DataFrame(my_dict)\n",
        "df"
      ]
    },
    {
      "cell_type": "markdown",
      "metadata": {
        "id": "NegZezNxIjbW"
      },
      "source": [
        "Putem adăuga linii și coloane manual:\n"
      ]
    },
    {
      "cell_type": "code",
      "execution_count": 2,
      "metadata": {
        "colab": {
          "base_uri": "https://localhost:8080/",
          "height": 174
        },
        "id": "X3sMlVzmJCee",
        "outputId": "c42bc613-d860-48a4-9c5d-03c0fd55786f"
      },
      "outputs": [
        {
          "data": {
            "text/html": [
              "<div>\n",
              "<style scoped>\n",
              "    .dataframe tbody tr th:only-of-type {\n",
              "        vertical-align: middle;\n",
              "    }\n",
              "\n",
              "    .dataframe tbody tr th {\n",
              "        vertical-align: top;\n",
              "    }\n",
              "\n",
              "    .dataframe thead th {\n",
              "        text-align: right;\n",
              "    }\n",
              "</style>\n",
              "<table border=\"1\" class=\"dataframe\">\n",
              "  <thead>\n",
              "    <tr style=\"text-align: right;\">\n",
              "      <th></th>\n",
              "      <th>cars</th>\n",
              "      <th>passings</th>\n",
              "    </tr>\n",
              "  </thead>\n",
              "  <tbody>\n",
              "    <tr>\n",
              "      <th>0</th>\n",
              "      <td>BMW</td>\n",
              "      <td>3</td>\n",
              "    </tr>\n",
              "    <tr>\n",
              "      <th>1</th>\n",
              "      <td>Volvo</td>\n",
              "      <td>7</td>\n",
              "    </tr>\n",
              "    <tr>\n",
              "      <th>2</th>\n",
              "      <td>Ford</td>\n",
              "      <td>2</td>\n",
              "    </tr>\n",
              "    <tr>\n",
              "      <th>3</th>\n",
              "      <td>Skoda</td>\n",
              "      <td>10</td>\n",
              "    </tr>\n",
              "  </tbody>\n",
              "</table>\n",
              "</div>"
            ],
            "text/plain": [
              "    cars  passings\n",
              "0    BMW         3\n",
              "1  Volvo         7\n",
              "2   Ford         2\n",
              "3  Skoda        10"
            ]
          },
          "execution_count": 2,
          "metadata": {},
          "output_type": "execute_result"
        }
      ],
      "source": [
        "df = pd.concat(\n",
        "    [df, pd.DataFrame({\"cars\": [\"Skoda\"], \"passings\": [10]})], ignore_index=True\n",
        ")\n",
        "df"
      ]
    },
    {
      "cell_type": "code",
      "execution_count": 3,
      "metadata": {
        "colab": {
          "base_uri": "https://localhost:8080/",
          "height": 174
        },
        "id": "j4JNP5YlKFw7",
        "outputId": "96018d83-4f1f-42a5-de5b-b47587c1bd70"
      },
      "outputs": [
        {
          "data": {
            "text/html": [
              "<div>\n",
              "<style scoped>\n",
              "    .dataframe tbody tr th:only-of-type {\n",
              "        vertical-align: middle;\n",
              "    }\n",
              "\n",
              "    .dataframe tbody tr th {\n",
              "        vertical-align: top;\n",
              "    }\n",
              "\n",
              "    .dataframe thead th {\n",
              "        text-align: right;\n",
              "    }\n",
              "</style>\n",
              "<table border=\"1\" class=\"dataframe\">\n",
              "  <thead>\n",
              "    <tr style=\"text-align: right;\">\n",
              "      <th></th>\n",
              "      <th>cars</th>\n",
              "      <th>passings</th>\n",
              "      <th>Colors</th>\n",
              "    </tr>\n",
              "  </thead>\n",
              "  <tbody>\n",
              "    <tr>\n",
              "      <th>0</th>\n",
              "      <td>BMW</td>\n",
              "      <td>3</td>\n",
              "      <td>red</td>\n",
              "    </tr>\n",
              "    <tr>\n",
              "      <th>1</th>\n",
              "      <td>Volvo</td>\n",
              "      <td>7</td>\n",
              "      <td>black</td>\n",
              "    </tr>\n",
              "    <tr>\n",
              "      <th>2</th>\n",
              "      <td>Ford</td>\n",
              "      <td>2</td>\n",
              "      <td>white</td>\n",
              "    </tr>\n",
              "    <tr>\n",
              "      <th>3</th>\n",
              "      <td>Skoda</td>\n",
              "      <td>10</td>\n",
              "      <td>red</td>\n",
              "    </tr>\n",
              "  </tbody>\n",
              "</table>\n",
              "</div>"
            ],
            "text/plain": [
              "    cars  passings Colors\n",
              "0    BMW         3    red\n",
              "1  Volvo         7  black\n",
              "2   Ford         2  white\n",
              "3  Skoda        10    red"
            ]
          },
          "execution_count": 3,
          "metadata": {},
          "output_type": "execute_result"
        }
      ],
      "source": [
        "df[\"Colors\"] = [\"red\", \"black\", \"white\", \"red\"]\n",
        "df"
      ]
    },
    {
      "cell_type": "code",
      "execution_count": 4,
      "metadata": {
        "colab": {
          "base_uri": "https://localhost:8080/",
          "height": 174
        },
        "id": "6J3LVtbt9TyU",
        "outputId": "f8726158-3e96-4c1e-be16-58274a71a6bc"
      },
      "outputs": [
        {
          "data": {
            "text/html": [
              "<div>\n",
              "<style scoped>\n",
              "    .dataframe tbody tr th:only-of-type {\n",
              "        vertical-align: middle;\n",
              "    }\n",
              "\n",
              "    .dataframe tbody tr th {\n",
              "        vertical-align: top;\n",
              "    }\n",
              "\n",
              "    .dataframe thead th {\n",
              "        text-align: right;\n",
              "    }\n",
              "</style>\n",
              "<table border=\"1\" class=\"dataframe\">\n",
              "  <thead>\n",
              "    <tr style=\"text-align: right;\">\n",
              "      <th></th>\n",
              "      <th>cars</th>\n",
              "      <th>passings</th>\n",
              "      <th>Colors</th>\n",
              "      <th>Paragraph</th>\n",
              "      <th>Sentence</th>\n",
              "    </tr>\n",
              "  </thead>\n",
              "  <tbody>\n",
              "    <tr>\n",
              "      <th>0</th>\n",
              "      <td>BMW</td>\n",
              "      <td>3</td>\n",
              "      <td>red</td>\n",
              "      <td>1</td>\n",
              "      <td>1</td>\n",
              "    </tr>\n",
              "    <tr>\n",
              "      <th>1</th>\n",
              "      <td>Volvo</td>\n",
              "      <td>7</td>\n",
              "      <td>black</td>\n",
              "      <td>2</td>\n",
              "      <td>1</td>\n",
              "    </tr>\n",
              "    <tr>\n",
              "      <th>2</th>\n",
              "      <td>Ford</td>\n",
              "      <td>2</td>\n",
              "      <td>white</td>\n",
              "      <td>2</td>\n",
              "      <td>2</td>\n",
              "    </tr>\n",
              "    <tr>\n",
              "      <th>3</th>\n",
              "      <td>Skoda</td>\n",
              "      <td>10</td>\n",
              "      <td>red</td>\n",
              "      <td>3</td>\n",
              "      <td>1</td>\n",
              "    </tr>\n",
              "  </tbody>\n",
              "</table>\n",
              "</div>"
            ],
            "text/plain": [
              "    cars  passings Colors  Paragraph  Sentence\n",
              "0    BMW         3    red          1         1\n",
              "1  Volvo         7  black          2         1\n",
              "2   Ford         2  white          2         2\n",
              "3  Skoda        10    red          3         1"
            ]
          },
          "execution_count": 4,
          "metadata": {},
          "output_type": "execute_result"
        }
      ],
      "source": [
        "df[\"Paragraph\"] = [1, 2, 2, 3]\n",
        "df[\"Sentence\"] = [1, 1, 2, 1]\n",
        "df"
      ]
    },
    {
      "cell_type": "markdown",
      "metadata": {
        "id": "asGlOy8dKgfl"
      },
      "source": [
        "Sau le putem elimina:\n"
      ]
    },
    {
      "cell_type": "code",
      "execution_count": 5,
      "metadata": {
        "colab": {
          "base_uri": "https://localhost:8080/",
          "height": 174
        },
        "id": "t-HzGx7RKi-F",
        "outputId": "c891fdc8-16ea-4be5-dd47-de806b47f237"
      },
      "outputs": [
        {
          "data": {
            "text/html": [
              "<div>\n",
              "<style scoped>\n",
              "    .dataframe tbody tr th:only-of-type {\n",
              "        vertical-align: middle;\n",
              "    }\n",
              "\n",
              "    .dataframe tbody tr th {\n",
              "        vertical-align: top;\n",
              "    }\n",
              "\n",
              "    .dataframe thead th {\n",
              "        text-align: right;\n",
              "    }\n",
              "</style>\n",
              "<table border=\"1\" class=\"dataframe\">\n",
              "  <thead>\n",
              "    <tr style=\"text-align: right;\">\n",
              "      <th></th>\n",
              "      <th>cars</th>\n",
              "      <th>Colors</th>\n",
              "      <th>Paragraph</th>\n",
              "      <th>Sentence</th>\n",
              "    </tr>\n",
              "  </thead>\n",
              "  <tbody>\n",
              "    <tr>\n",
              "      <th>0</th>\n",
              "      <td>BMW</td>\n",
              "      <td>red</td>\n",
              "      <td>1</td>\n",
              "      <td>1</td>\n",
              "    </tr>\n",
              "    <tr>\n",
              "      <th>1</th>\n",
              "      <td>Volvo</td>\n",
              "      <td>black</td>\n",
              "      <td>2</td>\n",
              "      <td>1</td>\n",
              "    </tr>\n",
              "    <tr>\n",
              "      <th>2</th>\n",
              "      <td>Ford</td>\n",
              "      <td>white</td>\n",
              "      <td>2</td>\n",
              "      <td>2</td>\n",
              "    </tr>\n",
              "    <tr>\n",
              "      <th>3</th>\n",
              "      <td>Skoda</td>\n",
              "      <td>red</td>\n",
              "      <td>3</td>\n",
              "      <td>1</td>\n",
              "    </tr>\n",
              "  </tbody>\n",
              "</table>\n",
              "</div>"
            ],
            "text/plain": [
              "    cars Colors  Paragraph  Sentence\n",
              "0    BMW    red          1         1\n",
              "1  Volvo  black          2         1\n",
              "2   Ford  white          2         2\n",
              "3  Skoda    red          3         1"
            ]
          },
          "execution_count": 5,
          "metadata": {},
          "output_type": "execute_result"
        }
      ],
      "source": [
        "df = df.drop(columns=[\"passings\"])\n",
        "df"
      ]
    },
    {
      "cell_type": "code",
      "execution_count": 6,
      "metadata": {
        "colab": {
          "base_uri": "https://localhost:8080/",
          "height": 143
        },
        "id": "pbnHYD-dKwrb",
        "outputId": "2370640a-b064-4840-83bc-83f75667f612"
      },
      "outputs": [
        {
          "data": {
            "text/html": [
              "<div>\n",
              "<style scoped>\n",
              "    .dataframe tbody tr th:only-of-type {\n",
              "        vertical-align: middle;\n",
              "    }\n",
              "\n",
              "    .dataframe tbody tr th {\n",
              "        vertical-align: top;\n",
              "    }\n",
              "\n",
              "    .dataframe thead th {\n",
              "        text-align: right;\n",
              "    }\n",
              "</style>\n",
              "<table border=\"1\" class=\"dataframe\">\n",
              "  <thead>\n",
              "    <tr style=\"text-align: right;\">\n",
              "      <th></th>\n",
              "      <th>cars</th>\n",
              "      <th>Colors</th>\n",
              "      <th>Paragraph</th>\n",
              "      <th>Sentence</th>\n",
              "    </tr>\n",
              "  </thead>\n",
              "  <tbody>\n",
              "    <tr>\n",
              "      <th>0</th>\n",
              "      <td>BMW</td>\n",
              "      <td>red</td>\n",
              "      <td>1</td>\n",
              "      <td>1</td>\n",
              "    </tr>\n",
              "    <tr>\n",
              "      <th>1</th>\n",
              "      <td>Volvo</td>\n",
              "      <td>black</td>\n",
              "      <td>2</td>\n",
              "      <td>1</td>\n",
              "    </tr>\n",
              "    <tr>\n",
              "      <th>2</th>\n",
              "      <td>Ford</td>\n",
              "      <td>white</td>\n",
              "      <td>2</td>\n",
              "      <td>2</td>\n",
              "    </tr>\n",
              "  </tbody>\n",
              "</table>\n",
              "</div>"
            ],
            "text/plain": [
              "    cars Colors  Paragraph  Sentence\n",
              "0    BMW    red          1         1\n",
              "1  Volvo  black          2         1\n",
              "2   Ford  white          2         2"
            ]
          },
          "execution_count": 6,
          "metadata": {},
          "output_type": "execute_result"
        }
      ],
      "source": [
        "df = df.drop([len(df) - 1])\n",
        "df"
      ]
    },
    {
      "cell_type": "markdown",
      "metadata": {
        "id": "w8qtWdeRK52e"
      },
      "source": [
        "Putem adăuga coloane noi pe baza celor deja existente folosind operații simple (dacă ne interesează valoarea completă din celule) sau lamba funcții (dacă vrem să facem diverse operații pe elementele din celule):\n"
      ]
    },
    {
      "cell_type": "code",
      "execution_count": 7,
      "metadata": {
        "colab": {
          "base_uri": "https://localhost:8080/",
          "height": 143
        },
        "id": "_tjl29ZkLjlx",
        "outputId": "9b753e7b-f45b-4f45-f78b-9daa699d8805"
      },
      "outputs": [
        {
          "data": {
            "text/html": [
              "<div>\n",
              "<style scoped>\n",
              "    .dataframe tbody tr th:only-of-type {\n",
              "        vertical-align: middle;\n",
              "    }\n",
              "\n",
              "    .dataframe tbody tr th {\n",
              "        vertical-align: top;\n",
              "    }\n",
              "\n",
              "    .dataframe thead th {\n",
              "        text-align: right;\n",
              "    }\n",
              "</style>\n",
              "<table border=\"1\" class=\"dataframe\">\n",
              "  <thead>\n",
              "    <tr style=\"text-align: right;\">\n",
              "      <th></th>\n",
              "      <th>cars</th>\n",
              "      <th>Colors</th>\n",
              "      <th>Paragraph</th>\n",
              "      <th>Sentence</th>\n",
              "      <th>Full info</th>\n",
              "      <th>Model length</th>\n",
              "    </tr>\n",
              "  </thead>\n",
              "  <tbody>\n",
              "    <tr>\n",
              "      <th>0</th>\n",
              "      <td>BMW</td>\n",
              "      <td>red</td>\n",
              "      <td>1</td>\n",
              "      <td>1</td>\n",
              "      <td>BMW red</td>\n",
              "      <td>3</td>\n",
              "    </tr>\n",
              "    <tr>\n",
              "      <th>1</th>\n",
              "      <td>Volvo</td>\n",
              "      <td>black</td>\n",
              "      <td>2</td>\n",
              "      <td>1</td>\n",
              "      <td>Volvo black</td>\n",
              "      <td>5</td>\n",
              "    </tr>\n",
              "    <tr>\n",
              "      <th>2</th>\n",
              "      <td>Ford</td>\n",
              "      <td>white</td>\n",
              "      <td>2</td>\n",
              "      <td>2</td>\n",
              "      <td>Ford white</td>\n",
              "      <td>4</td>\n",
              "    </tr>\n",
              "  </tbody>\n",
              "</table>\n",
              "</div>"
            ],
            "text/plain": [
              "    cars Colors  Paragraph  Sentence    Full info  Model length\n",
              "0    BMW    red          1         1      BMW red             3\n",
              "1  Volvo  black          2         1  Volvo black             5\n",
              "2   Ford  white          2         2   Ford white             4"
            ]
          },
          "execution_count": 7,
          "metadata": {},
          "output_type": "execute_result"
        }
      ],
      "source": [
        "df[\"Full info\"] = df[\"cars\"] + \" \" + df[\"Colors\"]\n",
        "df[\"Model length\"] = df[\"cars\"].apply(lambda car: len(car))\n",
        "df"
      ]
    },
    {
      "cell_type": "markdown",
      "metadata": {
        "id": "E4cce68LL-2C"
      },
      "source": [
        "Pentru fiecare coloană putem vedea o descriere generală:\n"
      ]
    },
    {
      "cell_type": "code",
      "execution_count": 8,
      "metadata": {
        "colab": {
          "base_uri": "https://localhost:8080/",
          "height": 300
        },
        "id": "u_MGIB3WMPfE",
        "outputId": "668c91e9-67d8-4fc1-a317-20500021460d"
      },
      "outputs": [
        {
          "data": {
            "text/html": [
              "<div>\n",
              "<style scoped>\n",
              "    .dataframe tbody tr th:only-of-type {\n",
              "        vertical-align: middle;\n",
              "    }\n",
              "\n",
              "    .dataframe tbody tr th {\n",
              "        vertical-align: top;\n",
              "    }\n",
              "\n",
              "    .dataframe thead th {\n",
              "        text-align: right;\n",
              "    }\n",
              "</style>\n",
              "<table border=\"1\" class=\"dataframe\">\n",
              "  <thead>\n",
              "    <tr style=\"text-align: right;\">\n",
              "      <th></th>\n",
              "      <th>Paragraph</th>\n",
              "      <th>Sentence</th>\n",
              "      <th>Model length</th>\n",
              "    </tr>\n",
              "  </thead>\n",
              "  <tbody>\n",
              "    <tr>\n",
              "      <th>count</th>\n",
              "      <td>3.000000</td>\n",
              "      <td>3.000000</td>\n",
              "      <td>3.0</td>\n",
              "    </tr>\n",
              "    <tr>\n",
              "      <th>mean</th>\n",
              "      <td>1.666667</td>\n",
              "      <td>1.333333</td>\n",
              "      <td>4.0</td>\n",
              "    </tr>\n",
              "    <tr>\n",
              "      <th>std</th>\n",
              "      <td>0.577350</td>\n",
              "      <td>0.577350</td>\n",
              "      <td>1.0</td>\n",
              "    </tr>\n",
              "    <tr>\n",
              "      <th>min</th>\n",
              "      <td>1.000000</td>\n",
              "      <td>1.000000</td>\n",
              "      <td>3.0</td>\n",
              "    </tr>\n",
              "    <tr>\n",
              "      <th>25%</th>\n",
              "      <td>1.500000</td>\n",
              "      <td>1.000000</td>\n",
              "      <td>3.5</td>\n",
              "    </tr>\n",
              "    <tr>\n",
              "      <th>50%</th>\n",
              "      <td>2.000000</td>\n",
              "      <td>1.000000</td>\n",
              "      <td>4.0</td>\n",
              "    </tr>\n",
              "    <tr>\n",
              "      <th>75%</th>\n",
              "      <td>2.000000</td>\n",
              "      <td>1.500000</td>\n",
              "      <td>4.5</td>\n",
              "    </tr>\n",
              "    <tr>\n",
              "      <th>max</th>\n",
              "      <td>2.000000</td>\n",
              "      <td>2.000000</td>\n",
              "      <td>5.0</td>\n",
              "    </tr>\n",
              "  </tbody>\n",
              "</table>\n",
              "</div>"
            ],
            "text/plain": [
              "       Paragraph  Sentence  Model length\n",
              "count   3.000000  3.000000           3.0\n",
              "mean    1.666667  1.333333           4.0\n",
              "std     0.577350  0.577350           1.0\n",
              "min     1.000000  1.000000           3.0\n",
              "25%     1.500000  1.000000           3.5\n",
              "50%     2.000000  1.000000           4.0\n",
              "75%     2.000000  1.500000           4.5\n",
              "max     2.000000  2.000000           5.0"
            ]
          },
          "execution_count": 8,
          "metadata": {},
          "output_type": "execute_result"
        }
      ],
      "source": [
        "df.describe()"
      ]
    },
    {
      "cell_type": "code",
      "execution_count": 9,
      "metadata": {},
      "outputs": [
        {
          "name": "stdout",
          "output_type": "stream",
          "text": [
            "<class 'pandas.core.frame.DataFrame'>\n",
            "RangeIndex: 3 entries, 0 to 2\n",
            "Data columns (total 6 columns):\n",
            " #   Column        Non-Null Count  Dtype \n",
            "---  ------        --------------  ----- \n",
            " 0   cars          3 non-null      object\n",
            " 1   Colors        3 non-null      object\n",
            " 2   Paragraph     3 non-null      int64 \n",
            " 3   Sentence      3 non-null      int64 \n",
            " 4   Full info     3 non-null      object\n",
            " 5   Model length  3 non-null      int64 \n",
            "dtypes: int64(3), object(3)\n",
            "memory usage: 276.0+ bytes\n"
          ]
        }
      ],
      "source": [
        "df.info()"
      ]
    },
    {
      "cell_type": "markdown",
      "metadata": {
        "id": "Vpr3Si7mMRLF"
      },
      "source": [
        "Valoarea maximă:\n"
      ]
    },
    {
      "cell_type": "code",
      "execution_count": 10,
      "metadata": {
        "colab": {
          "base_uri": "https://localhost:8080/",
          "height": 272
        },
        "id": "aKglkpzgMHdZ",
        "outputId": "cfcdb7ce-31a1-4dbf-8947-e70f772abcc7"
      },
      "outputs": [
        {
          "data": {
            "text/plain": [
              "cars                  Volvo\n",
              "Colors                white\n",
              "Paragraph                 2\n",
              "Sentence                  2\n",
              "Full info       Volvo black\n",
              "Model length              5\n",
              "dtype: object"
            ]
          },
          "execution_count": 10,
          "metadata": {},
          "output_type": "execute_result"
        }
      ],
      "source": [
        "df.max()"
      ]
    },
    {
      "cell_type": "markdown",
      "metadata": {
        "id": "8mDL4AvhMWIK"
      },
      "source": [
        "Și valoarea medie:\n"
      ]
    },
    {
      "cell_type": "code",
      "execution_count": 11,
      "metadata": {
        "colab": {
          "base_uri": "https://localhost:8080/",
          "height": 178
        },
        "id": "r56sE9ozMYLX",
        "outputId": "59bc6e35-a5a7-4cc8-d311-fdb998d1fee2"
      },
      "outputs": [
        {
          "data": {
            "text/plain": [
              "Paragraph       1.666667\n",
              "Sentence        1.333333\n",
              "Model length    4.000000\n",
              "dtype: float64"
            ]
          },
          "execution_count": 11,
          "metadata": {},
          "output_type": "execute_result"
        }
      ],
      "source": [
        "df_numerical = df[[\"Paragraph\", \"Sentence\", \"Model length\"]]\n",
        "df_numerical.mean()"
      ]
    },
    {
      "cell_type": "markdown",
      "metadata": {
        "id": "4C5YaWwzMke9"
      },
      "source": [
        "Sau putem filtra după o anumită condiție:\n"
      ]
    },
    {
      "cell_type": "code",
      "execution_count": 12,
      "metadata": {
        "colab": {
          "base_uri": "https://localhost:8080/",
          "height": 112
        },
        "id": "pFnciD-6Moce",
        "outputId": "c39885d7-3a6b-4376-8a90-bf0b005c05d4"
      },
      "outputs": [
        {
          "data": {
            "text/html": [
              "<div>\n",
              "<style scoped>\n",
              "    .dataframe tbody tr th:only-of-type {\n",
              "        vertical-align: middle;\n",
              "    }\n",
              "\n",
              "    .dataframe tbody tr th {\n",
              "        vertical-align: top;\n",
              "    }\n",
              "\n",
              "    .dataframe thead th {\n",
              "        text-align: right;\n",
              "    }\n",
              "</style>\n",
              "<table border=\"1\" class=\"dataframe\">\n",
              "  <thead>\n",
              "    <tr style=\"text-align: right;\">\n",
              "      <th></th>\n",
              "      <th>cars</th>\n",
              "      <th>Colors</th>\n",
              "      <th>Paragraph</th>\n",
              "      <th>Sentence</th>\n",
              "      <th>Full info</th>\n",
              "      <th>Model length</th>\n",
              "    </tr>\n",
              "  </thead>\n",
              "  <tbody>\n",
              "    <tr>\n",
              "      <th>1</th>\n",
              "      <td>Volvo</td>\n",
              "      <td>black</td>\n",
              "      <td>2</td>\n",
              "      <td>1</td>\n",
              "      <td>Volvo black</td>\n",
              "      <td>5</td>\n",
              "    </tr>\n",
              "    <tr>\n",
              "      <th>2</th>\n",
              "      <td>Ford</td>\n",
              "      <td>white</td>\n",
              "      <td>2</td>\n",
              "      <td>2</td>\n",
              "      <td>Ford white</td>\n",
              "      <td>4</td>\n",
              "    </tr>\n",
              "  </tbody>\n",
              "</table>\n",
              "</div>"
            ],
            "text/plain": [
              "    cars Colors  Paragraph  Sentence    Full info  Model length\n",
              "1  Volvo  black          2         1  Volvo black             5\n",
              "2   Ford  white          2         2   Ford white             4"
            ]
          },
          "execution_count": 12,
          "metadata": {},
          "output_type": "execute_result"
        }
      ],
      "source": [
        "df[df[\"Model length\"] > 3]"
      ]
    },
    {
      "cell_type": "markdown",
      "metadata": {
        "id": "6l7tmGKsIRo2"
      },
      "source": [
        "#### _EXERCIȚIU_\n",
        "\n",
        "Creează un dataframe pornind de la excelul sau fișierul csv creat la exercițiul de data trecută. Accesează elementul de pe linia 0, coloana 1 și păstrează doar liniile din dataframe care conțin acea valoare pe orice coloană.\n"
      ]
    },
    {
      "cell_type": "code",
      "execution_count": null,
      "metadata": {
        "id": "2sihBwUZIRo3"
      },
      "outputs": [],
      "source": []
    },
    {
      "cell_type": "markdown",
      "metadata": {
        "id": "lX_hNgMDIRo3"
      },
      "source": [
        "---\n"
      ]
    },
    {
      "cell_type": "markdown",
      "metadata": {
        "id": "XN-VRj6Wa-s3"
      },
      "source": [
        "## Matplotlib\n",
        "\n",
        "Matplotlib este o librărie utilizată pentru a reprezenta vizual date statistice. Cea mai simplă reprezentare o constituie graficele:\n"
      ]
    },
    {
      "cell_type": "code",
      "execution_count": 13,
      "metadata": {
        "colab": {
          "base_uri": "https://localhost:8080/",
          "height": 430
        },
        "id": "a8-3k1KbbKKw",
        "outputId": "9048fe31-0620-433d-cea0-6cdce668d0da"
      },
      "outputs": [
        {
          "data": {
            "image/png": "[encoded data removed]",
            "text/plain": [
              "<Figure size 640x480 with 1 Axes>"
            ]
          },
          "metadata": {},
          "output_type": "display_data"
        }
      ],
      "source": [
        "import matplotlib.pyplot as plt\n",
        "\n",
        "xpoints = [1, 2, 6, 8]\n",
        "ypoints = [3, 8, 1, 10]\n",
        "\n",
        "plt.plot(xpoints, ypoints)\n",
        "plt.show()"
      ]
    },
    {
      "cell_type": "markdown",
      "metadata": {
        "id": "v9liGbijOUY2"
      },
      "source": [
        "Observați cum graficul unește punctele precizate prin lista de coordonate x și coordonate y. Pe acest grafic putem adăuga label-uri celor 2 axe, dar putem și să customizăm marcajele mai mult de atât:\n"
      ]
    },
    {
      "cell_type": "code",
      "execution_count": 14,
      "metadata": {
        "colab": {
          "base_uri": "https://localhost:8080/",
          "height": 472
        },
        "id": "K1YYMV2-OmWk",
        "outputId": "2dc0a2d4-756d-4f9e-a8c1-6367df9bc0c4"
      },
      "outputs": [
        {
          "data": {
            "image/png": "[encoded data removed]",
            "text/plain": [
              "<Figure size 640x480 with 1 Axes>"
            ]
          },
          "metadata": {},
          "output_type": "display_data"
        }
      ],
      "source": [
        "plt.title(\"GRAFIC\")\n",
        "plt.xlabel(\"X Axis\")\n",
        "plt.ylabel(\"Y Axis\")\n",
        "\n",
        "plt.plot(xpoints, ypoints, \"o:r\")\n",
        "plt.show()"
      ]
    },
    {
      "cell_type": "markdown",
      "metadata": {
        "id": "WH4W57_wPCwg"
      },
      "source": [
        "În exemplul de mai sus am folosit reprezentarea [simbol][linie][culoare] pentru a descrie formatul graficului.\n"
      ]
    },
    {
      "cell_type": "markdown",
      "metadata": {
        "id": "AY3-e9-7R0MT"
      },
      "source": [
        "Afișarea cu _.plot()_ am stabilit că formează grafice ca mai sus. Alte variante de reprezentări sunt plot bars -- _.bar()_ -- sau histogramele -- _.hist()_ --, care se apelează la fel, dar se customizează diferit.\n"
      ]
    },
    {
      "cell_type": "markdown",
      "metadata": {
        "id": "c9BJVxbKQE_W"
      },
      "source": [
        "#### _EXERCIȚIU_\n",
        "\n",
        "Creează un plot format din 2 subplot-uri după cum urmează:\n",
        "\n",
        "1. Două liste de puncte cu culori și simboluri diferite de cele utilizate până acum reprezentate pe același grafic.\n",
        "2. Orice plot bar sau histogramă cu o culoare diferită de cea originală.\n"
      ]
    },
    {
      "cell_type": "code",
      "execution_count": null,
      "metadata": {
        "id": "gsuURTjGQE_e"
      },
      "outputs": [],
      "source": []
    },
    {
      "cell_type": "markdown",
      "metadata": {
        "id": "17LZp2ECQE_e"
      },
      "source": [
        "---\n"
      ]
    },
    {
      "cell_type": "markdown",
      "metadata": {
        "id": "-RM8OzdnPxtU"
      },
      "source": [
        "Documentația completă matplotlib: https://matplotlib.org/stable/index.html\n"
      ]
    },
    {
      "cell_type": "markdown",
      "metadata": {
        "id": "6-MOyuz5bIYa"
      },
      "source": [
        "## Wordcloud\n",
        "\n",
        "Wordcloud este o altă librărie care ne ajută să analizăm textul. Mai exact, pentru un text dat această librărie reprezintă frecvența apariției fiecărui cuvânt prin dimensiunea acestuia în imaginea creeată:\n"
      ]
    },
    {
      "cell_type": "code",
      "execution_count": 15,
      "metadata": {
        "colab": {
          "base_uri": "https://localhost:8080/",
          "height": 285
        },
        "id": "DnP_9EMZYt4i",
        "outputId": "6004c3e0-53c5-4737-fc9b-b73b9fa9d372"
      },
      "outputs": [
        {
          "data": {
            "image/png": "[encoded data removed]",
            "text/plain": [
              "<Figure size 640x480 with 1 Axes>"
            ]
          },
          "metadata": {},
          "output_type": "display_data"
        }
      ],
      "source": [
        "from wordcloud import WordCloud\n",
        "\n",
        "wordcloud = WordCloud(max_font_size=50, max_words=1000, background_color=\"white\")\n",
        "wordcloud_picture = wordcloud.generate(\n",
        "    \"Am fost la mare și am mâncat 2 mere și 2 pere. Mi s-a făcut rău așa că am plecat acasă după doar 2 zile.\"\n",
        ")\n",
        "\n",
        "plt.imshow(wordcloud, interpolation=\"bilinear\")\n",
        "plt.axis(\"off\")\n",
        "plt.show()"
      ]
    },
    {
      "cell_type": "markdown",
      "metadata": {
        "id": "hmveFp0KVNhS"
      },
      "source": [
        "Obervați cum cuvintele care apar cel mai des în text sunt mai mari decât celelalte în _wordcloud-ul_ string-ului. Funcția împarte automat textul în cuvinte individuale și elimină numerele și semnele de punctuație. Desigur, cu cât avem mai multe cuvinte cu atât desenul e mai complet și diferențele sunt mai evidente.\n"
      ]
    },
    {
      "cell_type": "markdown",
      "metadata": {
        "id": "-VWLQv4KZ7pQ"
      },
      "source": [
        "# Web Scraping\n"
      ]
    },
    {
      "cell_type": "markdown",
      "metadata": {
        "id": "WScRpjugI3q2"
      },
      "source": [
        "Uneori avem nevoie de o cantitate mare de informații de pe internet -- fie că vrem să creăm un corpus (dataset), fie că vrem să ne automatizăm munca în alte moduri.\n"
      ]
    },
    {
      "cell_type": "markdown",
      "metadata": {
        "id": "edm00J8KKG7B"
      },
      "source": [
        "De exemplu, să zicem că vrem să extragem toate submisiile unui utilizator de pe infoarena pentru a ne uita la statistici.\n",
        "\n",
        "Pentru moment doar o să copiem linkul pe care vrem să îl accesăm și o să extragem conținutul.\n"
      ]
    },
    {
      "cell_type": "code",
      "execution_count": 16,
      "metadata": {
        "colab": {
          "base_uri": "https://localhost:8080/",
          "height": 206
        },
        "id": "FOrIXxyPJ83N",
        "outputId": "4bc975a2-7a65-4975-e407-b65ddf3167b4"
      },
      "outputs": [
        {
          "data": {
            "text/html": [
              "<div>\n",
              "<style scoped>\n",
              "    .dataframe tbody tr th:only-of-type {\n",
              "        vertical-align: middle;\n",
              "    }\n",
              "\n",
              "    .dataframe tbody tr th {\n",
              "        vertical-align: top;\n",
              "    }\n",
              "\n",
              "    .dataframe thead th {\n",
              "        text-align: right;\n",
              "    }\n",
              "</style>\n",
              "<table border=\"1\" class=\"dataframe\">\n",
              "  <thead>\n",
              "    <tr style=\"text-align: right;\">\n",
              "      <th></th>\n",
              "      <th>ID</th>\n",
              "      <th>Utilizator</th>\n",
              "      <th>Problema</th>\n",
              "      <th>Runda</th>\n",
              "      <th>Marime</th>\n",
              "      <th>Data</th>\n",
              "      <th>Stare</th>\n",
              "    </tr>\n",
              "  </thead>\n",
              "  <tbody>\n",
              "    <tr>\n",
              "      <th>0</th>\n",
              "      <td>#3208075</td>\n",
              "      <td>Chris Luntraru Brandon</td>\n",
              "      <td>Clepsidra</td>\n",
              "      <td>Arhiva de probleme</td>\n",
              "      <td>1.48 kb</td>\n",
              "      <td>27 feb 24 17:28:37</td>\n",
              "      <td>Evaluare completa: 100 puncte</td>\n",
              "    </tr>\n",
              "    <tr>\n",
              "      <th>1</th>\n",
              "      <td>#3208073</td>\n",
              "      <td>Chris Luntraru Brandon</td>\n",
              "      <td>Mostenire3</td>\n",
              "      <td>Arhiva de probleme</td>\n",
              "      <td>1.48 kb</td>\n",
              "      <td>27 feb 24 17:25:54</td>\n",
              "      <td>Evaluare completa: 0 puncte</td>\n",
              "    </tr>\n",
              "    <tr>\n",
              "      <th>2</th>\n",
              "      <td>#3201333</td>\n",
              "      <td>Chris Luntraru Brandon</td>\n",
              "      <td>Muzeu</td>\n",
              "      <td>Arhiva de probleme</td>\n",
              "      <td>1.60 kb</td>\n",
              "      <td>7 feb 24 16:49:24</td>\n",
              "      <td>Evaluare completa: 100 puncte</td>\n",
              "    </tr>\n",
              "    <tr>\n",
              "      <th>3</th>\n",
              "      <td>#3201326</td>\n",
              "      <td>Chris Luntraru Brandon</td>\n",
              "      <td>Muzeu</td>\n",
              "      <td>Arhiva de probleme</td>\n",
              "      <td>1.54 kb</td>\n",
              "      <td>7 feb 24 16:39:49</td>\n",
              "      <td>Evaluare completa: 10 puncte</td>\n",
              "    </tr>\n",
              "    <tr>\n",
              "      <th>4</th>\n",
              "      <td>#2764915</td>\n",
              "      <td>Chris Luntraru Brandon</td>\n",
              "      <td>Algoritmul Bellman-Ford</td>\n",
              "      <td>Arhiva educationala</td>\n",
              "      <td>2.06 kb</td>\n",
              "      <td>23 iul 21 15:53:57</td>\n",
              "      <td>Evaluare completa: 35 puncte</td>\n",
              "    </tr>\n",
              "  </tbody>\n",
              "</table>\n",
              "</div>"
            ],
            "text/plain": [
              "         ID              Utilizator                 Problema  \\\n",
              "0  #3208075  Chris Luntraru Brandon                Clepsidra   \n",
              "1  #3208073  Chris Luntraru Brandon               Mostenire3   \n",
              "2  #3201333  Chris Luntraru Brandon                    Muzeu   \n",
              "3  #3201326  Chris Luntraru Brandon                    Muzeu   \n",
              "4  #2764915  Chris Luntraru Brandon  Algoritmul Bellman-Ford   \n",
              "\n",
              "                 Runda   Marime                Data  \\\n",
              "0   Arhiva de probleme  1.48 kb  27 feb 24 17:28:37   \n",
              "1   Arhiva de probleme  1.48 kb  27 feb 24 17:25:54   \n",
              "2   Arhiva de probleme  1.60 kb   7 feb 24 16:49:24   \n",
              "3   Arhiva de probleme  1.54 kb   7 feb 24 16:39:49   \n",
              "4  Arhiva educationala  2.06 kb  23 iul 21 15:53:57   \n",
              "\n",
              "                           Stare  \n",
              "0  Evaluare completa: 100 puncte  \n",
              "1    Evaluare completa: 0 puncte  \n",
              "2  Evaluare completa: 100 puncte  \n",
              "3   Evaluare completa: 10 puncte  \n",
              "4   Evaluare completa: 35 puncte  "
            ]
          },
          "execution_count": 16,
          "metadata": {},
          "output_type": "execute_result"
        }
      ],
      "source": [
        "import requests\n",
        "import pandas as pd\n",
        "\n",
        "url = \"https://www.infoarena.ro/monitor?user=brandon\"\n",
        "html = requests.get(url)\n",
        "df = pd.read_html(html.content)[1]\n",
        "df.head()"
      ]
    },
    {
      "cell_type": "markdown",
      "metadata": {
        "id": "i5j5Ao4tS7_m"
      },
      "source": [
        "#### _EXERCIȚIU_\n",
        "\n",
        "Ai observat că în exemplul de mai sus sunt afișate doar ultimele 25 de submisii ale utilizatorului? Uită-te cum se modifică linkul atunci când treci de la o pagină la alta și simulează acest proces pentru a crea un dataframe care include toate submisiile făcute de Chris pe infoarena vreodată.\n"
      ]
    },
    {
      "cell_type": "code",
      "execution_count": null,
      "metadata": {
        "id": "KsQd9NLoS7_n"
      },
      "outputs": [],
      "source": []
    },
    {
      "cell_type": "markdown",
      "metadata": {
        "id": "u2vDklpYfbFQ"
      },
      "source": [
        "#### _SOLUȚIE_\n"
      ]
    },
    {
      "cell_type": "code",
      "execution_count": 18,
      "metadata": {
        "id": "r4ZXrWzlfZVv"
      },
      "outputs": [
        {
          "data": {
            "text/html": [
              "<div>\n",
              "<style scoped>\n",
              "    .dataframe tbody tr th:only-of-type {\n",
              "        vertical-align: middle;\n",
              "    }\n",
              "\n",
              "    .dataframe tbody tr th {\n",
              "        vertical-align: top;\n",
              "    }\n",
              "\n",
              "    .dataframe thead th {\n",
              "        text-align: right;\n",
              "    }\n",
              "</style>\n",
              "<table border=\"1\" class=\"dataframe\">\n",
              "  <thead>\n",
              "    <tr style=\"text-align: right;\">\n",
              "      <th></th>\n",
              "      <th>ID</th>\n",
              "      <th>Utilizator</th>\n",
              "      <th>Problema</th>\n",
              "      <th>Runda</th>\n",
              "      <th>Marime</th>\n",
              "      <th>Data</th>\n",
              "      <th>Stare</th>\n",
              "    </tr>\n",
              "  </thead>\n",
              "  <tbody>\n",
              "    <tr>\n",
              "      <th>0</th>\n",
              "      <td>#2273357</td>\n",
              "      <td>Chris Luntraru Brandon</td>\n",
              "      <td>Inv</td>\n",
              "      <td>Arhiva de probleme</td>\n",
              "      <td>0.42 kb</td>\n",
              "      <td>31 oct 18 14:29:52</td>\n",
              "      <td>Evaluare completa: 20 puncte</td>\n",
              "    </tr>\n",
              "    <tr>\n",
              "      <th>1</th>\n",
              "      <td>#2268154</td>\n",
              "      <td>Chris Luntraru Brandon</td>\n",
              "      <td>Hacker3</td>\n",
              "      <td>Arhiva de probleme</td>\n",
              "      <td>1.68 kb</td>\n",
              "      <td>24 oct 18 15:33:19</td>\n",
              "      <td>Evaluare completa: 100 puncte</td>\n",
              "    </tr>\n",
              "    <tr>\n",
              "      <th>2</th>\n",
              "      <td>#2268137</td>\n",
              "      <td>Chris Luntraru Brandon</td>\n",
              "      <td>Hacker3</td>\n",
              "      <td>Arhiva de probleme</td>\n",
              "      <td>1.70 kb</td>\n",
              "      <td>24 oct 18 15:16:09</td>\n",
              "      <td>Evaluare completa: 0 puncte</td>\n",
              "    </tr>\n",
              "    <tr>\n",
              "      <th>3</th>\n",
              "      <td>#2268133</td>\n",
              "      <td>Chris Luntraru Brandon</td>\n",
              "      <td>Hacker3</td>\n",
              "      <td>Arhiva de probleme</td>\n",
              "      <td>1.68 kb</td>\n",
              "      <td>24 oct 18 15:11:11</td>\n",
              "      <td>Evaluare completa: 0 puncte</td>\n",
              "    </tr>\n",
              "    <tr>\n",
              "      <th>4</th>\n",
              "      <td>#2268108</td>\n",
              "      <td>Chris Luntraru Brandon</td>\n",
              "      <td>Hacker3</td>\n",
              "      <td>Arhiva de probleme</td>\n",
              "      <td>1.45 kb</td>\n",
              "      <td>24 oct 18 15:01:28</td>\n",
              "      <td>Evaluare completa: 95 puncte</td>\n",
              "    </tr>\n",
              "  </tbody>\n",
              "</table>\n",
              "</div>"
            ],
            "text/plain": [
              "         ID              Utilizator Problema               Runda   Marime  \\\n",
              "0  #2273357  Chris Luntraru Brandon      Inv  Arhiva de probleme  0.42 kb   \n",
              "1  #2268154  Chris Luntraru Brandon  Hacker3  Arhiva de probleme  1.68 kb   \n",
              "2  #2268137  Chris Luntraru Brandon  Hacker3  Arhiva de probleme  1.70 kb   \n",
              "3  #2268133  Chris Luntraru Brandon  Hacker3  Arhiva de probleme  1.68 kb   \n",
              "4  #2268108  Chris Luntraru Brandon  Hacker3  Arhiva de probleme  1.45 kb   \n",
              "\n",
              "                 Data                          Stare  \n",
              "0  31 oct 18 14:29:52   Evaluare completa: 20 puncte  \n",
              "1  24 oct 18 15:33:19  Evaluare completa: 100 puncte  \n",
              "2  24 oct 18 15:16:09    Evaluare completa: 0 puncte  \n",
              "3  24 oct 18 15:11:11    Evaluare completa: 0 puncte  \n",
              "4  24 oct 18 15:01:28   Evaluare completa: 95 puncte  "
            ]
          },
          "execution_count": 18,
          "metadata": {},
          "output_type": "execute_result"
        }
      ],
      "source": [
        "# @title\n",
        "url = f\"https://www.infoarena.ro/monitor?user=brandon&display_entries={25}&first_entry={25}\"\n",
        "html = requests.get(url)\n",
        "df = pd.read_html(html.content)[1]\n",
        "df.head()"
      ]
    },
    {
      "cell_type": "markdown",
      "metadata": {
        "id": "l1h81TlmS7_o"
      },
      "source": [
        "---\n"
      ]
    },
    {
      "cell_type": "markdown",
      "metadata": {
        "id": "GNmEKq2UPfHD"
      },
      "source": [
        "# EXERCIȚII\n",
        "\n",
        "Acum că știm bazele e momentul să le punem cap la cap și să analizăm un set de date. Acest pas e important înainte de a începe să scriem orice cod de ML pentru că ne ajută să ne dăm seama cum trebuie abordat corpusul pe care lucrăm -- Ce feature-uri sunt importante? Ce eliminăm la preprocesare? Lucrăm pe un set de date echilibrat? Etc...\n",
        "\n",
        "Tema voastră cere să scrieți o clasă care vă creează un dataset pe care îl vom analiza. Exercițiile pot fi rezolvate în orice ordine, dar toate (în afară de 1 unde creăm clasa) se vor rezolva ca funcții în interiorul clasei și vor fi apelate pentru a le testa. Internetul este prietenul tău, chatGPT nu neapărat...\n"
      ]
    },
    {
      "cell_type": "markdown",
      "metadata": {
        "id": "CVR6MiXsPisc"
      },
      "source": [
        "1. Creează o clasă cu variabile statice. Definește funcția implicită de inițializare și funcția implicită de afișare respectând următoarele precizări:\n",
        "\n",
        "- pentru un website de algoritmică și un username date ca parametru la inițializare clasa va crea dataframe-ul care conține tot istoricul problemelor trimise de acel user pe site-ul respectiv. Programul trebuie să funcționeze pentru cel puțin 2 website-uri competitive. Funcția de inițializare va avea parametrii default pentru username și website, iar dataframe-ul va fi păstrat într-o variabilă statică.\n",
        "- modifică dataframe-ul astfel încât să aibă aceleași coloane indiferent de website-ul de pe care au fost extrase.\n",
        "- funcția de afișare a clasei va afișa acest dataframe\n"
      ]
    },
    {
      "cell_type": "markdown",
      "metadata": {
        "id": "Ln4tFFh1WM-J"
      },
      "source": [
        "2. Alege-ți 2 coloane din dataframe pe care să le analizezi. Creează minim o histogramă și un pie chart pentru distribuțiile elementelor de pe coloanele respective. E vreuna din aceste coloane relevantă pentru scor?\n"
      ]
    },
    {
      "cell_type": "markdown",
      "metadata": {
        "id": "RcrXvoZRX80B"
      },
      "source": [
        "3. Scrie o funcție care, pentru cel puțin unul dintre site-uri, accesează pagina problemei, extrage o informație nouă despre problema respectivă și o adaugă în dataframe-ul nostru. Această informație este relevantă pentru scor?\n"
      ]
    },
    {
      "cell_type": "markdown",
      "metadata": {
        "id": "ltisQg6IYohT"
      },
      "source": [
        "4. Creează un wordcloud cu numele problemelor abordate pentru a vedea care au fost problemele cu cele mai multe submisii. Care pare să fie tendința acestui utilizator pentru a rezolva probleme? Au fost câteva probleme mai grele pentru el sau trimite multe surse în general?\n"
      ]
    },
    {
      "cell_type": "markdown",
      "metadata": {
        "id": "ZvaFm3CTaOnU"
      },
      "source": [
        "5. Împarte data și ora submisiei în coloane separate cu același format. Creează o coloană de scor, sau înlocuiește-o pe cea deja existentă astfel încât să conțină doar punctajul numeric, fără alt text. Atenție la informațiile extrase de pe site-uri diferite!\n"
      ]
    },
    {
      "cell_type": "markdown",
      "metadata": {
        "id": "aEt4fc-aWxVA"
      },
      "source": [
        "6. Salvează dataframe-ul într-un fișier cu calea citită de la tastatură.\n"
      ]
    },
    {
      "cell_type": "code",
      "execution_count": null,
      "metadata": {
        "id": "eslz3mk3cRQ1"
      },
      "outputs": [],
      "source": []
    },
    {
      "cell_type": "markdown",
      "metadata": {
        "id": "5F5s9E-7bAYx"
      },
      "source": [
        "---\n"
      ]
    }
  ],
  "metadata": {
    "colab": {
      "collapsed_sections": [
        "u2vDklpYfbFQ"
      ],
      "provenance": []
    },
    "kernelspec": {
      "display_name": "OAI",
      "language": "python",
      "name": "python3"
    },
    "language_info": {
      "codemirror_mode": {
        "name": "ipython",
        "version": 3
      },
      "file_extension": ".py",
      "mimetype": "text/x-python",
      "name": "python",
      "nbconvert_exporter": "python",
      "pygments_lexer": "ipython3",
      "version": "3.12.9"
    }
  },
  "nbformat": 4,
  "nbformat_minor": 0
}

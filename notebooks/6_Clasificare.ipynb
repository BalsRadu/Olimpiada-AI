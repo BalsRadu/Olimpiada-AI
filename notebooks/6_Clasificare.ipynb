{
  "cells": [
    {
      "cell_type": "markdown",
      "metadata": {
        "id": "toKgH4lgmsan"
      },
      "source": [
        "<img src = 'https://drive.google.com/uc?id=1cPtoRUIVZ2jWaiIl8z1fm4R4V3kwQfZh\n",
        "' width=\"170\" height=\"190\" align = \"left\">\n",
        "\n",
        "# <font color = \"green\" > <b>Obiective</b></font>\n",
        "\n",
        "---\n",
        "\n",
        "Prin parcurgerea acestui capitol veți învăța:\n",
        "\n",
        "- ce înseamnă clasificare din perspectiva Machine Learning\n",
        "- cum arată un set de date etichetate și cum este folosit pentru antrenarea unui sistem\n",
        "- când folosim tehnici de clasificare (exemple vizuale) şi cum realizăm clasificarea (algoritmi)\n",
        "- cum interpretăm și vizualizăm rezultatele obținute prin clasificare\n"
      ]
    },
    {
      "cell_type": "markdown",
      "metadata": {
        "id": "Wqf8pBTOdY6U"
      },
      "source": [
        "|                                                                                                                        |\n",
        "| ---------------------------------------------------------------------------------------------------------------------- |\n",
        "| <img src='https://drive.google.com/uc?id=1HV8Tdtn20fD2wdlz1hXrFRvgyQ-ZATIv' width=\"550\" ><figcaption align = \"center\"> |\n"
      ]
    },
    {
      "cell_type": "markdown",
      "metadata": {
        "id": "pFKg0jxHDhyB"
      },
      "source": [
        "# Clasificare\n",
        "\n",
        "## Concept\n",
        "\n",
        "În general, clasificarea presupune identificarea, pentru un exemplu concret de mostră, a categoriei din care face parte, având un număr fix de categorii și cunoscând pentru fiecare categorie denumirea.\n",
        "Exemple de clasificare:\n",
        "\n",
        "- identificarea tipului de animal de companie dintr-o fotografie (căine, pisică, sau hamster)\n",
        "- catalogarea unui anumit email ca spam sau non-spam\n",
        "- stabilirea dacă o anumită imagine conține sau nu chipul cuiva\n",
        "- identificarea literelor/cifrelor în scrisul de mână\n"
      ]
    },
    {
      "cell_type": "markdown",
      "metadata": {
        "id": "k3GPVQc741x0"
      },
      "source": [
        "## Abordare clasică\n",
        "\n",
        "Majoritatea algoritmilor clasici se bazeză pe reguli deduse manual ce descriu fiecare categorie în parte.\n",
        "\n",
        "De exemplu, în cazul în care se analizează o imagine, este necesară, pentru fiecare categorie, o analiză în care să se specifice ce culori ar trebui să conțină imaginea și în ce poziții. O astfel de analiză este aproape imposibil de realizat fiind foarte multe cazuri de verificat.\n",
        "\n",
        "Să presupunem că avem o imagine cu o cifră și trebuie să proiectăm un algoritm clasic, care identifică cifra din imagine. Începem prin a privi pixel cu pixel și a încerca să găsim câteva forme si proprietațile lor (semicercuri peste mai mulți pixeli, poziția în imagine sau relativ fața de ceilalți pixeli: colț / centru, stânga / dreapta, sus / jos, la scară mai mică / mai mare). Apoi, căutăm alte structuri precum unghiuri drepte și așa mai departe. Și la sfârșit, definim câteva reguli pentru a lega combinațiile acestor structuri detectate cu eticheta corectă a cifrelor. De exemplu, un 0 va avea patru semicercuri: stânga, dreapta, sus, jos și va fi aliniat cu axele OX și OY.\n",
        "\n",
        "Un algoritm clasic ar trebui să descrie particilaritățile pentru fiecare clasă. Dar cât de bine ar funcționa un astfel de algoritm pentru noi exemple, scrise de mână unde formele nu sunt perfecte❓\n"
      ]
    },
    {
      "cell_type": "markdown",
      "metadata": {
        "id": "mIGvkNLd443Y"
      },
      "source": [
        "##Abordare automată (Machine Learning)\n",
        "\n",
        "**Învățarea automată (Machine Learning)** în general utilizează algoritmi care **învață din date.** În cazul clasificării, pe baza mai multor exemple (perechi intrăre - ieșire) algoritmul **descoperă logica din spatele sarcinii** și este capabil să prezică rezultate pentru noi exemple pe care nu le-a\n",
        ".văzut încă, fără intervenția noastră directă.\n",
        "Această practică este denumită **generalizare**, reprezentând capacitatea de a face predicții corecte pentru intrări noi.\n",
        "\n",
        "Cel mai simplu mod de a face algoritmul „să știe” ce căutăm este să avem date **etichetate**. Altfel spus, pentru fiecare exemplu din care algoritmul nostru învață, vom avea răspunsul corect atașat.\n",
        "\n",
        "De exemplu, pentru a identifica ce animal de companie (câine, pisică sau hamster) se află într-o imagine, datele de intrare sunt reprezentate de multe imagini cu animale de companie, pentru fiecare imagine fiind precizată eticheta (căine, pisică sau hamster). Pe baza acestor imagini etichetate algoritmul extrage automat reguli pentru a reprezenta relația între imagini si etichete astfel încât sa poată generaliza și să facă o predicție buna pentru o nouă imagine ce conține un animal de companie.\n",
        "\n",
        "Pornind de la **date pe care le avem**, se poate proiecta un algoritm care generalizează și face predicții pentru **date noi**.\n",
        "\n",
        "Astfel, dacă în datele pe care le avem nu există nicio imagine a unei pisici siameze, atunci când este analizată o nouă imagine ce conține o pisică siameză, algoritmul ar trebui să deducă că animalul din imagine este mai degrabă o pisică decât un câine, pe baza caracteristicilor comune cu alte rase de pisici analizate anterior, fără a fi nevoie de moificarea algoritmului pentru acest caz special.\n"
      ]
    },
    {
      "cell_type": "markdown",
      "metadata": {
        "id": "okDe0Tr4MICj"
      },
      "source": [
        "## Exemple de utilizare\n",
        "\n",
        "Clasificarea automată se poate aplica pentru diferite tipuri de date de intrare și ieșire, cuprinzand o foarte mare varietate de cazuri de utilizare:\n",
        "\n",
        "1. Recunoașterea cifrelor scrise de mână (imagine-> cifra care apare în imagine)\n",
        "2. Clasificarea obiectelor (imagine -> om, animal, mașină, plantă sau stradă)\n",
        "3. Recunosterea acțiunii (dinamica miscării scheletului -> tipul acțiunii)\n",
        "4. Analiza feedback-ului primit (text -> pozitiv, neutru sau negativ)\n",
        "5. Detecția de spam detection (email -> spam sau non-spam email)\n",
        "6. Diagnostic medical (imagini RMN -> recunoașterea structurilor bolnave/ anormale prin clasificarea pixelilor )\n",
        "7. Interpretare video (video -> text descriptiv)\n"
      ]
    },
    {
      "cell_type": "markdown",
      "metadata": {
        "id": "unJtPYlfMS9D"
      },
      "source": [
        "<img src = 'https://drive.google.com/uc?id=1C8uwBgQF0JaRFhM7GEyZvJr4KJ7lptsS' align = \"center\"><figcaption align = \"center\"> Figura 1 Exemple de utilizare a clasificării</figcaption>\n"
      ]
    },
    {
      "cell_type": "markdown",
      "metadata": {
        "id": "DUyhDozCfDxC"
      },
      "source": [
        "De multe ori, exemplele primite la evaluare diferă considerabil de cele văzute în timpul antrenării. Acest lucru face impracticabilă utilizarea metodelor clasice (bazate pe reguli codificate manual). Evident și metodele automate vor avea limitări și nu vor funcționa în orice condiții. Dar în general vor funcționa mai bine decât sistemele clasice. Exemple de astfel de posibile diferențe între antrenare și testare:\n"
      ]
    },
    {
      "cell_type": "markdown",
      "metadata": {
        "id": "0D_U1f46BESY"
      },
      "source": [
        "<img src = 'https://drive.google.com/uc?id=18M8nI0pdwwr17CaWpZG7K-Gdp-0kbOI1' align = \"center\"><figcaption align = \"center\"> Figura 2. Diferențe între date de antrenare si date de testare</figcaption>\n"
      ]
    },
    {
      "cell_type": "markdown",
      "metadata": {
        "id": "QvS6Rr3dfWA-"
      },
      "source": [
        "# Setul de date\n",
        "\n",
        "Setul de date (dataset) se referă la datele de intrare și ieșire pe care le folosim în algoritmii de machine learning și pe baza cărora se vor face predicțiile. Este o parte extrem de importantă în învățarea automată (machine learning). Fără un set de date, nu putem face machine learning.\n",
        "Setul de date ar trebui să fie reprezentativ pentru domeniul pentru care aplicăm clasificarea și ar trebui să avem, din toate categoriile, suficiente exemple prin intermediul cărora să antrenăm sistemul.\n",
        "\n",
        "Pentru toate exemplele menționate anterior și pentru multe altele, sunt disponibile online o mulțime de seturi de date. În general, partea de colectare de date poate fi dificil de realizat, mai ales dacă problema nu e trivială sau de interes pentru toată lumea.\n",
        "\n",
        "Seturi de date mai mici, folosite în special pentru exerciții sau în activități de cercetare, pot fi descărcate de [aici](https://archive.ics.uci.edu/ml/datasets.php) sau pur și simplu puteți căuta _machine learning datasets_.\n",
        "\n",
        "Dacă vă interesează seturi de date din viața de zi cu zi, ce ar putea fi folosite pentru studierea unor probleme reale din România, accesați platforma de date publice puse la dispoziție de autorități [aici](https://data.gov.ro/)\n"
      ]
    },
    {
      "cell_type": "markdown",
      "metadata": {
        "id": "EcvLrcC5x0_n"
      },
      "source": [
        "## Exemplu pentru floarea Iris\n",
        "\n",
        "**Setul de date Iris** este un set de date clasic, folosit pentru introducerea conceptelor de clasificare. Acest set de date necesită clasificarea varietăți de iris (sau stânjenel cum mai este cunostă această floare). Datele de intrare conțin 4 caracteristici ale florilor:\n",
        "\n",
        "- lungimea sepalei în cm\n",
        "- lățimea sepalei în cm\n",
        "- lungimea petalei în cm\n",
        "- lățimea petalei în cm\n",
        "\n",
        "![iris_features](https://drive.google.com/uc?export=view&id=16_y2uggW0285tsiFIUHRTMCkKPMp0hOI)\n",
        "\n",
        "Pentru fiecare exemplua din setul nostru de date (caracterizat prin cele 4 caracteristici), știm varietatea de iris la care se referă:\n",
        "\n",
        "- setosa\n",
        "- versicolor\n",
        "- virginica\n",
        "\n",
        "Altfel spus, știm eticheta fiecărei intrări din setul de date.\n"
      ]
    },
    {
      "cell_type": "markdown",
      "metadata": {
        "id": "9dgrGrK8p18p"
      },
      "source": [
        "![iris_classes](https://drive.google.com/uc?export=view&id=1w4aHnVKAkHtQTPZ_N3u42_TXbVTLw0mV)\n"
      ]
    },
    {
      "cell_type": "markdown",
      "metadata": {
        "id": "9EGrrw8brb_C"
      },
      "source": [
        "Este important să știm că, în general, un algoritm de învățare automată trebuie să aibă toate intrările sale într-o formă numerică. Dacă nu este deja preprocesat, va trebui să faceți acest lucru. Dar suntem norocoși, setul de date Iris are deja numai valori numerice.\n",
        "\n",
        "![tab](https://drive.google.com/uc?export=view&id=10MjbHVHiyn3vp_-1vG12yC4RlCFkwv-T)\n"
      ]
    },
    {
      "cell_type": "markdown",
      "metadata": {
        "id": "eT4-W8hcxAVo"
      },
      "source": [
        "Executând codul de mai jos, încărcăm setul de date pentru iris\n"
      ]
    },
    {
      "cell_type": "code",
      "execution_count": null,
      "metadata": {
        "colab": {
          "base_uri": "https://localhost:8080/"
        },
        "id": "QPSSYiU3QwPA",
        "outputId": "9822a9e4-c87d-48cf-9897-a9bc03cb53c6"
      },
      "outputs": [
        {
          "name": "stdout",
          "output_type": "stream",
          "text": [
            "Dataset shape: (150, 4)\n"
          ]
        }
      ],
      "source": [
        "# use sklearn library to get the dataset samples\n",
        "from sklearn.datasets import load_iris\n",
        "\n",
        "iris_ds = load_iris()\n",
        "print(\"Dataset shape:\", iris_ds.data.shape)\n"
      ]
    },
    {
      "cell_type": "markdown",
      "metadata": {
        "id": "edeqbG-pxdSv"
      },
      "source": [
        "Pentru a ne acomoda cu datele, rulam codul de mai jos, pentru a afișa informatii suplimentare:\n"
      ]
    },
    {
      "cell_type": "code",
      "execution_count": 2,
      "metadata": {
        "colab": {
          "base_uri": "https://localhost:8080/"
        },
        "id": "rwcfxs8bRVM2",
        "outputId": "7783e282-3a72-431d-b9d5-20ebc68bf6f7"
      },
      "outputs": [
        {
          "name": "stdout",
          "output_type": "stream",
          "text": [
            "Classes = species: ['setosa' 'versicolor' 'virginica']\n",
            "\t--> will be encoded as [0, 1, 2]\n",
            "\n",
            "Features: ['sepal length (cm)', 'sepal width (cm)', 'petal length (cm)', 'petal width (cm)']\n",
            "\n",
            "Some flowers' features:\n",
            "[[5.1 3.5 1.4 0.2]\n",
            " [4.9 3.  1.4 0.2]\n",
            " [4.7 3.2 1.3 0.2]\n",
            " [4.6 3.1 1.5 0.2]\n",
            " [5.  3.6 1.4 0.2]]\n",
            "\n",
            "--> and their classes:\n",
            "[0 0 0 0 0]\n"
          ]
        }
      ],
      "source": [
        "print(\"Classes = species:\", iris_ds.target_names)\n",
        "print(\"\\t--> will be encoded as [0, 1, 2]\")\n",
        "\n",
        "print(\"\\nFeatures:\", iris_ds.feature_names)\n",
        "\n",
        "print(\"\\nSome flowers' features:\")\n",
        "print(iris_ds.data[:5])\n",
        "\n",
        "print(\"\\n--> and their classes:\")\n",
        "print(iris_ds.target[:5])"
      ]
    },
    {
      "cell_type": "markdown",
      "metadata": {
        "id": "brdbVR86bZGH"
      },
      "source": [
        "**Obervatie:** Etichetele sunt representate ca numere naturale, incepand cu 0. In cazul nostru avem trei etichete: 0, 1, 2\n",
        "\n",
        "_`❗️`_ Să facem un experiment de gândire!\n",
        "\n",
        "Un mod banal de a rezolva problema presupune:\n",
        "\n",
        "- memorarea datelor pentru florile deja cunoscute într-o matrice\n",
        "- citirea celor 4 caracteristici pentru o floare de iris nouă, neetichetată\n",
        "- parcurgerea tuturor liniilor din matrice pentru a căuta caracteristicile florii neetichetate\n",
        "- dacă avem noroc și găsim exact aceste caracteristici, dăm răspunsul exact, altfel nu putem sugera nimic\n",
        "\n",
        "In cazul unui exemplu nou, nevăzut în timpul antrenării, metoda nu va gasi nimic identic în matrice. Intuitiv, ne dăm seama că ne-ar ajuta să găsim exemplu în setul de date care este cel mai apropiat (din punct de vedere al similarității) și vom prelua clasa acestuia. Deci, cumva să căutăm în apropiere, printre vecini.\n",
        "\n",
        "Acesta este principiul algoritmului KNN (K-Nearest Neighbor Algorithm) prin intermediul căruia, pe baza unui set de date, antrenăm sistemul ca pentru o nouă intrare să ne precizeze intrări similare din setul de date.\n",
        "\n",
        "❓Dacă noi folosim tot setul de date pentru antrenament, cum vom valida răspunsurile date de sistem?\n",
        "\n",
        "Apare astfel evidentă împărțirea datelor din setul inițial în:\n",
        "\n",
        "- date de antrenament (de exemplu 70% din exemplele din setul de date) ce vor fi utilizate pentru a a antrena sistemul (pe baza acestor date se va prezice clasa pentru un exemplu nou).\n",
        "- date de validare (de exemplu celelalte 30% din exemplele din setul de date) ce vor fi utilizate pentru a testa sistemul (se vor valida clasele prezise pentru exemple noi)\n",
        "\n",
        "Împărțirea se face aleator. Este recomandat ca datele din fiecare clasă să fie împărțite in același fel, adică păstrăm pentru antrenare 70% din clasa 'setosa', 70% din clasa 'verginica', 70% din clasa 'versicolor', și la fel 30% pentru validare din fiecare clasă. Pentru simplitate însă, vom face o permutare aleatoare a întregului set de date si vom păstra primele 70% din date pentru antrenare, care vor conține aproximativ numere egale din fiecare clasă.\n"
      ]
    },
    {
      "cell_type": "code",
      "execution_count": 4,
      "metadata": {
        "colab": {
          "base_uri": "https://localhost:8080/"
        },
        "id": "gHyuh_J3UTca",
        "outputId": "22771cbf-59ad-4533-d690-67fc291fa9c8"
      },
      "outputs": [
        {
          "name": "stdout",
          "output_type": "stream",
          "text": [
            "train_data (105, 4)\n",
            "valid_data (45, 4)\n"
          ]
        }
      ],
      "source": [
        "import numpy as np\n",
        "\n",
        "# get number of examples in the dataset\n",
        "dataset_len = iris_ds.data.shape[0]\n",
        "\n",
        "# get indices to generate a random permutation of the dataset\n",
        "indices = np.random.permutation(iris_ds.data.shape[0])\n",
        "\n",
        "# apply the permutation to the dataset, both to the data and the targets\n",
        "permuted_data = iris_ds.data[indices]\n",
        "permuted_targets = iris_ds.target[indices]\n",
        "\n",
        "# 70% split\n",
        "split = int(dataset_len * 0.70)\n",
        "\n",
        "# use first 70% for training and the rest for validation\n",
        "train_data, train_classes = np.array(permuted_data[:split]), permuted_targets[:split]\n",
        "valid_data, valid_classes = np.array(permuted_data[split:]), permuted_targets[split:]\n",
        "\n",
        "print(\"train_data\", train_data.shape)\n",
        "print(\"valid_data\", valid_data.shape)"
      ]
    },
    {
      "cell_type": "code",
      "execution_count": 5,
      "metadata": {
        "colab": {
          "base_uri": "https://localhost:8080/"
        },
        "id": "4lxlbISn2ngi",
        "outputId": "b0ce6f5d-c0b9-4f9e-a442-ab2e42908087"
      },
      "outputs": [
        {
          "name": "stdout",
          "output_type": "stream",
          "text": [
            "Exemple din clasa 0 34\n",
            "Exemple din clasa 1 38\n",
            "Exemple din clasa 2 33\n"
          ]
        }
      ],
      "source": [
        "# let's see how many examples from each class we have\n",
        "print(\"Exemple din clasa 0\", sum(train_classes == 0))\n",
        "print(\"Exemple din clasa 1\", sum(train_classes == 1))\n",
        "print(\"Exemple din clasa 2\", sum(train_classes == 2))"
      ]
    },
    {
      "cell_type": "markdown",
      "metadata": {
        "id": "d13MQRZ4TT_e"
      },
      "source": [
        "# Algoritmul KNN (K-Nearest Neighbor Algorithm)\n"
      ]
    },
    {
      "cell_type": "markdown",
      "metadata": {
        "id": "RdnYxwJ_JhTS"
      },
      "source": [
        "## Definirea problemei\n",
        "\n",
        "**Avem:**\n",
        "\n",
        "- un set de date etichetate (vom lucra cu setul de date Iris)\n",
        "- informații despre un exemplu necunoscut, care nu se află în setul de date (de exemplu dimensiunile petalelor și sepalelor pentru o floare nemaiîntâlnită)\n",
        "\n",
        "**Determinăm:**\n",
        "\n",
        "- eticheta (clasa) din care face parte exemplul analizat (ce varietate de iris este floarea analizată)\n",
        "\n",
        "**Cum:**\n",
        "\n",
        "- identificăm în setul de date exemple similare (vecini) pe baza unei distanțe (de exemplu distanța euclediană). Vezi lecția anterioară despre clusterizare pentru o discuție detaliată a distanțelor\n",
        "- Asociem exemplului nou eticheta cea mai probabilă bazându-ne pe ethichetele vecinilor (exemplele cele mai similare)\n"
      ]
    },
    {
      "cell_type": "markdown",
      "metadata": {
        "id": "IotkIwKMTaX8"
      },
      "source": [
        "## Distanța euclidiană\n",
        "\n",
        "❗️Să ne reamintim:\n",
        "\n",
        "- ați determinat la matematică distanța euclidiană dintre 2 puncte ${p}$ și ${q}$ utilizînd teorema lui Pitagora\n",
        "- ați folosit, pentru clusterizare, distanța euclidiană între două puncte în plan\n",
        "\n",
        "Vom generaliza acum, pentru puncte în spațiu (tridimensionale) și chiar pentru puncte n-dimensionale\n",
        "\n",
        "---\n",
        "\n",
        "Dacă ${p}$ și ${q}$ sunt 2 puncte în plan\n",
        "\n",
        "- ${p}$ de coordonatele $p_{1}$ și $p_{2}$\n",
        "- ${q}$ de coordonatele $q_{1}$ și $q_{2}$\n",
        "\n",
        "$\\color{blue}{distanța(p,q) = \\sqrt{(p_{1}-q_{q_1})^2+(p_{2}-q_{2})^2}}$\n",
        "<img src = 'https://drive.google.com/uc?id=1jaTN9dDtifZ8qmjbEt00PTjGa5p87hug\n",
        "'  width=\"50%\" height=\"50%\" align =\"center\">\n",
        "\n",
        "---\n",
        "\n",
        "Dacă ${p}$ și ${q}$ sunt 2 puncte în spațiu\n",
        "\n",
        "- ${p}$ de coordonatele $p_{1}$, $p_{2}$ și $p_{3}$\n",
        "- ${q}$ de coordonatele $q_{1}$, $q_{2}$ și $q_{3}$\n",
        "\n",
        "$\\color{blue}{distanța(p,q) = \\sqrt{(p_{1}-q_{q_1})^2+(p_{2}-q_{2})^2+(p_{3}-q_{3})^2}}$\n",
        "<img src = 'https://drive.google.com/uc?id=1uBV3ZtN9NnEAjcmCopeP7bgGuonxQct7\n",
        "'  width=\"50%\" height=\"50%\" align = \"center\">\n",
        "\n",
        "---\n",
        "\n",
        "Distanța euclidiană se poate determina, prin generalizarea formulelor de mai sus, între orice 2 puncte n-dimensionale, altfel spus între punctele\n",
        "\n",
        "- ${p}$ de coordonatele $p_{1}$, $p_{2}$ ... $p_{n}$\n",
        "- ${q}$ de coordonatele $q_{1}$, $q_{2}$ ... $q_{n}$\n",
        "\n",
        "$\\color{blue}{distanța(p,q) = \\sqrt{(p_{1}-q_{q_1})^2+(p_{2}-q_{2})^2+...+(p_{n}-q_{n})^2}}$\n",
        "\n",
        "De exemplu, dacă ${p}$ și ${q}$ reprezintă 2 exemple de iris, fiecare floare având 4 caracteristici\n",
        "$p = (p1, p2, p3, p4)$ and $q = (q1, q2, q3, q4)$, distanța dintre punctele asociate acestor flori este\n",
        "$\\color{blue}{distanța(p,q) = \\sqrt{(p_{1}-q_{q_1})^2+(p_{2}-q_{2})^2+(p_{3}-q_{3})^2+(p_{4}-q_{4})^2}}$\n",
        "\n",
        "---\n",
        "\n",
        "---\n"
      ]
    },
    {
      "cell_type": "markdown",
      "metadata": {
        "id": "NgxvYEVNTcH_"
      },
      "source": [
        "## Algoritm\n",
        "\n",
        "> 1.  Calculăm distanța euclidiană dintre exemplul nostru necunoscut și fiecare intrare din setul de date\n",
        "> 2.  Ordonăm crescător aceste distanțe și selectăm cele mai mici k distanțe (cei mai apropiați k vecini)\n",
        "> 3.  Decidem eticheta exemplului necunoscut ca fiind cea mai frecventă clasă între vecini (puteți vedea acest lucru ca o formă de vot).\n"
      ]
    },
    {
      "cell_type": "markdown",
      "metadata": {
        "id": "vww6AND-2cG1"
      },
      "source": [
        "##Implementare\n"
      ]
    },
    {
      "cell_type": "code",
      "execution_count": null,
      "metadata": {
        "colab": {
          "base_uri": "https://localhost:8080/"
        },
        "id": "TppBoYHYRUfh",
        "outputId": "e137b0e2-ad1d-4892-8ce8-28d70d6e80fb"
      },
      "outputs": [
        {
          "name": "stdout",
          "output_type": "stream",
          "text": [
            "k_nearest_neigbours distances [(np.float64(0.45825756949558394), 85), (np.float64(0.5099019513592785), 86), (np.float64(0.5099019513592788), 82)]\n",
            "k_nearest_labels [np.int64(0), np.int64(0), np.int64(0)]\n",
            "Counter({np.int64(0): 3})\n",
            "\tMost common class (class, occurences): [(np.int64(0), 3)]\n",
            "Unseen Sample: [4.6 3.6 1.  0.2], [Predicted class 0] vs [Correct class 0]\n",
            "k_nearest_neigbours distances [(np.float64(0.43588989435406716), 90), (np.float64(0.4582575694955839), 87), (np.float64(0.46904157598234264), 80)]\n",
            "k_nearest_labels [np.int64(2), np.int64(2), np.int64(1)]\n",
            "Counter({np.int64(2): 2, np.int64(1): 1})\n",
            "\tMost common class (class, occurences): [(np.int64(2), 2), (np.int64(1), 1)]\n",
            "Unseen Sample: [6.3 2.8 5.1 1.5], [Predicted class 2] vs [Correct class 2]\n",
            "k_nearest_neigbours distances [(np.float64(0.2999999999999998), 47), (np.float64(0.374165738677394), 15), (np.float64(0.374165738677394), 98)]\n",
            "k_nearest_labels [np.int64(2), np.int64(2), np.int64(2)]\n",
            "Counter({np.int64(2): 3})\n",
            "\tMost common class (class, occurences): [(np.int64(2), 3)]\n",
            "Unseen Sample: [6.7 3.3 5.7 2.1], [Predicted class 2] vs [Correct class 2]\n",
            "k_nearest_neigbours distances [(np.float64(0.17320508075688762), 90), (np.float64(0.24494897427831777), 84), (np.float64(0.3605551275463989), 87)]\n",
            "k_nearest_labels [np.int64(2), np.int64(2), np.int64(2)]\n",
            "Counter({np.int64(2): 3})\n",
            "\tMost common class (class, occurences): [(np.int64(2), 3)]\n",
            "Unseen Sample: [6.3 2.7 4.9 1.8], [Predicted class 2] vs [Correct class 2]\n",
            "k_nearest_neigbours distances [(np.float64(0.3), 3), (np.float64(0.31622776601683783), 72), (np.float64(0.33166247903553986), 26)]\n",
            "k_nearest_labels [np.int64(0), np.int64(0), np.int64(0)]\n",
            "Counter({np.int64(0): 3})\n",
            "\tMost common class (class, occurences): [(np.int64(0), 3)]\n",
            "Unseen Sample: [5.5 3.5 1.3 0.2], [Predicted class 0] vs [Correct class 0]\n",
            "k_nearest_neigbours distances [(np.float64(0.14142135623730964), 73), (np.float64(0.14142135623730986), 64), (np.float64(0.17320508075688784), 18)]\n",
            "k_nearest_labels [np.int64(0), np.int64(0), np.int64(0)]\n",
            "Counter({np.int64(0): 3})\n",
            "\tMost common class (class, occurences): [(np.int64(0), 3)]\n",
            "Unseen Sample: [4.9 3.  1.4 0.2], [Predicted class 0] vs [Correct class 0]\n",
            "k_nearest_neigbours distances [(np.float64(0.33166247903553986), 8), (np.float64(0.3872983346207414), 3), (np.float64(0.46904157598234314), 29)]\n",
            "k_nearest_labels [np.int64(0), np.int64(0), np.int64(0)]\n",
            "Counter({np.int64(0): 3})\n",
            "\tMost common class (class, occurences): [(np.int64(0), 3)]\n",
            "Unseen Sample: [5.7 3.8 1.7 0.3], [Predicted class 0] vs [Correct class 0]\n",
            "k_nearest_neigbours distances [(np.float64(0.31622776601683783), 86), (np.float64(0.33166247903553986), 17), (np.float64(0.33166247903553997), 73)]\n",
            "k_nearest_labels [np.int64(0), np.int64(0), np.int64(0)]\n",
            "Counter({np.int64(0): 3})\n",
            "\tMost common class (class, occurences): [(np.int64(0), 3)]\n",
            "Unseen Sample: [5.  3.2 1.2 0.2], [Predicted class 0] vs [Correct class 0]\n",
            "k_nearest_neigbours distances [(np.float64(0.14142135623730964), 27), (np.float64(0.22360679774997916), 26), (np.float64(0.24494897427831747), 73)]\n",
            "k_nearest_labels [np.int64(0), np.int64(0), np.int64(0)]\n",
            "Counter({np.int64(0): 3})\n",
            "\tMost common class (class, occurences): [(np.int64(0), 3)]\n",
            "Unseen Sample: [5.  3.3 1.4 0.2], [Predicted class 0] vs [Correct class 0]\n",
            "k_nearest_neigbours distances [(np.float64(0.24494897427831783), 53), (np.float64(0.24494897427831802), 99), (np.float64(0.3316624790355402), 39)]\n",
            "k_nearest_labels [np.int64(2), np.int64(2), np.int64(2)]\n",
            "Counter({np.int64(2): 3})\n",
            "\tMost common class (class, occurences): [(np.int64(2), 3)]\n",
            "Unseen Sample: [6.3 2.9 5.6 1.8], [Predicted class 2] vs [Correct class 2]\n",
            "k_nearest_neigbours distances [(np.float64(0.42426406871192884), 33), (np.float64(0.5000000000000001), 15), (np.float64(0.529150262212918), 36)]\n",
            "k_nearest_labels [np.int64(2), np.int64(2), np.int64(2)]\n",
            "Counter({np.int64(2): 3})\n",
            "\tMost common class (class, occurences): [(np.int64(2), 3)]\n",
            "Unseen Sample: [6.3 3.4 5.6 2.4], [Predicted class 2] vs [Correct class 2]\n",
            "k_nearest_neigbours distances [(np.float64(0.374165738677394), 71), (np.float64(0.3872983346207415), 88), (np.float64(0.44721359549995776), 15)]\n",
            "k_nearest_labels [np.int64(2), np.int64(2), np.int64(2)]\n",
            "Counter({np.int64(2): 3})\n",
            "\tMost common class (class, occurences): [(np.int64(2), 3)]\n",
            "Unseen Sample: [6.4 3.2 5.3 2.3], [Predicted class 2] vs [Correct class 2]\n",
            "k_nearest_neigbours distances [(np.float64(0.26457513110645914), 74), (np.float64(0.3162277660168378), 5), (np.float64(0.42426406871192857), 9)]\n",
            "k_nearest_labels [np.int64(1), np.int64(1), np.int64(1)]\n",
            "Counter({np.int64(1): 3})\n",
            "\tMost common class (class, occurences): [(np.int64(1), 3)]\n",
            "Unseen Sample: [5.5 2.6 4.4 1.2], [Predicted class 1] vs [Correct class 1]\n",
            "k_nearest_neigbours distances [(np.float64(0.5385164807134504), 67), (np.float64(0.5477225575051662), 35), (np.float64(0.6633249580710802), 37)]\n",
            "k_nearest_labels [np.int64(2), np.int64(2), np.int64(2)]\n",
            "Counter({np.int64(2): 3})\n",
            "\tMost common class (class, occurences): [(np.int64(2), 3)]\n",
            "Unseen Sample: [7.7 3.  6.1 2.3], [Predicted class 2] vs [Correct class 2]\n",
            "k_nearest_neigbours distances [(np.float64(0.4242640687119284), 51), (np.float64(0.44721359549995804), 54), (np.float64(0.5099019513592781), 62)]\n",
            "k_nearest_labels [np.int64(1), np.int64(1), np.int64(1)]\n",
            "Counter({np.int64(1): 3})\n",
            "\tMost common class (class, occurences): [(np.int64(1), 3)]\n",
            "Unseen Sample: [5.6 2.9 3.6 1.3], [Predicted class 1] vs [Correct class 1]\n",
            "k_nearest_neigbours distances [(np.float64(0.26457513110645897), 34), (np.float64(0.5196152422706629), 19), (np.float64(0.5830951894845301), 41)]\n",
            "k_nearest_labels [np.int64(2), np.int64(2), np.int64(2)]\n",
            "Counter({np.int64(2): 3})\n",
            "\tMost common class (class, occurences): [(np.int64(2), 3)]\n",
            "Unseen Sample: [5.7 2.5 5.  2. ], [Predicted class 2] vs [Correct class 2]\n",
            "k_nearest_neigbours distances [(np.float64(0.20000000000000018), 66), (np.float64(0.2645751311064587), 58), (np.float64(0.3605551275463984), 38)]\n",
            "k_nearest_labels [np.int64(1), np.int64(1), np.int64(1)]\n",
            "Counter({np.int64(1): 3})\n",
            "\tMost common class (class, occurences): [(np.int64(1), 3)]\n",
            "Unseen Sample: [6.4 2.9 4.3 1.3], [Predicted class 1] vs [Correct class 1]\n",
            "k_nearest_neigbours distances [(np.float64(0.4123105625617661), 56), (np.float64(0.8831760866327846), 35), (np.float64(0.9327379053088818), 13)]\n",
            "k_nearest_labels [np.int64(2), np.int64(2), np.int64(2)]\n",
            "Counter({np.int64(2): 3})\n",
            "\tMost common class (class, occurences): [(np.int64(2), 3)]\n",
            "Unseen Sample: [7.9 3.8 6.4 2. ], [Predicted class 2] vs [Correct class 2]\n",
            "k_nearest_neigbours distances [(np.float64(0.0), 34), (np.float64(0.33166247903553997), 41), (np.float64(0.47958315233127147), 87)]\n",
            "k_nearest_labels [np.int64(2), np.int64(2), np.int64(2)]\n",
            "Counter({np.int64(2): 3})\n",
            "\tMost common class (class, occurences): [(np.int64(2), 3)]\n",
            "Unseen Sample: [5.8 2.7 5.1 1.9], [Predicted class 2] vs [Correct class 2]\n",
            "k_nearest_neigbours distances [(np.float64(0.5567764362830023), 71), (np.float64(0.6164414002968975), 88), (np.float64(0.6244997998398395), 15)]\n",
            "k_nearest_labels [np.int64(2), np.int64(2), np.int64(2)]\n",
            "Counter({np.int64(2): 3})\n",
            "\tMost common class (class, occurences): [(np.int64(2), 3)]\n",
            "Unseen Sample: [6.2 3.4 5.4 2.3], [Predicted class 2] vs [Correct class 2]\n",
            "k_nearest_neigbours distances [(np.float64(0.24494897427831785), 15), (np.float64(0.30000000000000016), 47), (np.float64(0.47958315233127174), 36)]\n",
            "k_nearest_labels [np.int64(2), np.int64(2), np.int64(2)]\n",
            "Counter({np.int64(2): 3})\n",
            "\tMost common class (class, occurences): [(np.int64(2), 3)]\n",
            "Unseen Sample: [6.7 3.3 5.7 2.5], [Predicted class 2] vs [Correct class 2]\n",
            "k_nearest_neigbours distances [(np.float64(0.22360679774997896), 79), (np.float64(0.2999999999999998), 87), (np.float64(0.3605551275463989), 41)]\n",
            "k_nearest_labels [np.int64(2), np.int64(2), np.int64(2)]\n",
            "Counter({np.int64(2): 3})\n",
            "\tMost common class (class, occurences): [(np.int64(2), 3)]\n",
            "Unseen Sample: [5.9 3.2 4.8 1.8], [Predicted class 2] vs [Correct class 1]\n",
            "k_nearest_neigbours distances [(np.float64(0.31622776601683816), 38), (np.float64(0.346410161513776), 103), (np.float64(0.4242640687119286), 95)]\n",
            "k_nearest_labels [np.int64(1), np.int64(1), np.int64(1)]\n",
            "Counter({np.int64(1): 3})\n",
            "\tMost common class (class, occurences): [(np.int64(1), 3)]\n",
            "Unseen Sample: [6.8 2.8 4.8 1.4], [Predicted class 1] vs [Correct class 1]\n",
            "k_nearest_neigbours distances [(np.float64(0.3605551275463989), 34), (np.float64(0.37416573867739383), 41), (np.float64(0.42426406871192796), 87)]\n",
            "k_nearest_labels [np.int64(2), np.int64(2), np.int64(2)]\n",
            "Counter({np.int64(2): 3})\n",
            "\tMost common class (class, occurences): [(np.int64(2), 3)]\n",
            "Unseen Sample: [6.  2.7 5.1 1.6], [Predicted class 2] vs [Correct class 1]\n",
            "k_nearest_neigbours distances [(np.float64(0.31622776601683755), 34), (np.float64(0.4582575694955842), 41), (np.float64(0.4898979485566353), 19)]\n",
            "k_nearest_labels [np.int64(2), np.int64(2), np.int64(2)]\n",
            "Counter({np.int64(2): 3})\n",
            "\tMost common class (class, occurences): [(np.int64(2), 3)]\n",
            "Unseen Sample: [5.6 2.8 4.9 2. ], [Predicted class 2] vs [Correct class 2]\n",
            "k_nearest_neigbours distances [(np.float64(0.24494897427831766), 38), (np.float64(0.31622776601683755), 58), (np.float64(0.42426406871192845), 101)]\n",
            "k_nearest_labels [np.int64(1), np.int64(1), np.int64(1)]\n",
            "Counter({np.int64(1): 3})\n",
            "\tMost common class (class, occurences): [(np.int64(1), 3)]\n",
            "Unseen Sample: [6.5 2.8 4.6 1.5], [Predicted class 1] vs [Correct class 1]\n",
            "k_nearest_neigbours distances [(np.float64(0.1999999999999993), 30), (np.float64(0.30000000000000027), 5), (np.float64(0.3872983346207417), 9)]\n",
            "k_nearest_labels [np.int64(1), np.int64(1), np.int64(1)]\n",
            "Counter({np.int64(1): 3})\n",
            "\tMost common class (class, occurences): [(np.int64(1), 3)]\n",
            "Unseen Sample: [5.6 3.  4.5 1.5], [Predicted class 1] vs [Correct class 1]\n",
            "k_nearest_neigbours distances [(np.float64(0.1999999999999998), 59), (np.float64(0.264575131106459), 2), (np.float64(0.3872983346207416), 27)]\n",
            "k_nearest_labels [np.int64(0), np.int64(0), np.int64(0)]\n",
            "Counter({np.int64(0): 3})\n",
            "\tMost common class (class, occurences): [(np.int64(0), 3)]\n",
            "Unseen Sample: [5.1 3.3 1.7 0.5], [Predicted class 0] vs [Correct class 0]\n",
            "k_nearest_neigbours distances [(np.float64(0.17320508075688762), 73), (np.float64(0.19999999999999993), 18), (np.float64(0.22360679774997916), 6)]\n",
            "k_nearest_labels [np.int64(0), np.int64(0), np.int64(0)]\n",
            "Counter({np.int64(0): 3})\n",
            "\tMost common class (class, occurences): [(np.int64(0), 3)]\n",
            "Unseen Sample: [5.  3.  1.6 0.2], [Predicted class 0] vs [Correct class 0]\n",
            "k_nearest_neigbours distances [(np.float64(0.3605551275463988), 69), (np.float64(0.3741657386773947), 8), (np.float64(0.41231056256176585), 61)]\n",
            "k_nearest_labels [np.int64(0), np.int64(0), np.int64(0)]\n",
            "Counter({np.int64(0): 3})\n",
            "\tMost common class (class, occurences): [(np.int64(0), 3)]\n",
            "Unseen Sample: [5.1 3.8 1.9 0.4], [Predicted class 0] vs [Correct class 0]\n",
            "k_nearest_neigbours distances [(np.float64(0.5385164807134505), 76), (np.float64(0.5830951894845299), 84), (np.float64(0.6782329983125268), 34)]\n",
            "k_nearest_labels [np.int64(1), np.int64(2), np.int64(2)]\n",
            "Counter({np.int64(2): 2, np.int64(1): 1})\n",
            "\tMost common class (class, occurences): [(np.int64(2), 2), (np.int64(1), 1)]\n",
            "Unseen Sample: [6.  2.2 5.  1.5], [Predicted class 2] vs [Correct class 2]\n",
            "k_nearest_neigbours distances [(np.float64(0.09999999999999964), 27), (np.float64(0.14142135623730995), 0), (np.float64(0.14142135623730995), 26)]\n",
            "k_nearest_labels [np.int64(0), np.int64(0), np.int64(0)]\n",
            "Counter({np.int64(0): 3})\n",
            "\tMost common class (class, occurences): [(np.int64(0), 3)]\n",
            "Unseen Sample: [5.1 3.4 1.5 0.2], [Predicted class 0] vs [Correct class 0]\n",
            "k_nearest_neigbours distances [(np.float64(0.10000000000000009), 39), (np.float64(0.30000000000000016), 36), (np.float64(0.43588989435406733), 92)]\n",
            "k_nearest_labels [np.int64(2), np.int64(2), np.int64(2)]\n",
            "Counter({np.int64(2): 3})\n",
            "\tMost common class (class, occurences): [(np.int64(2), 3)]\n",
            "Unseen Sample: [6.4 2.8 5.6 2.2], [Predicted class 2] vs [Correct class 2]\n",
            "k_nearest_neigbours distances [(np.float64(0.14142135623730917), 17), (np.float64(0.17320508075688756), 75), (np.float64(0.17320508075688806), 0)]\n",
            "k_nearest_labels [np.int64(0), np.int64(0), np.int64(0)]\n",
            "Counter({np.int64(0): 3})\n",
            "\tMost common class (class, occurences): [(np.int64(0), 3)]\n",
            "Unseen Sample: [5.1 3.5 1.4 0.3], [Predicted class 0] vs [Correct class 0]\n",
            "k_nearest_neigbours distances [(np.float64(0.2828427124746193), 103), (np.float64(0.31622776601683783), 101), (np.float64(0.31622776601683833), 38)]\n",
            "k_nearest_labels [np.int64(1), np.int64(1), np.int64(1)]\n",
            "Counter({np.int64(1): 3})\n",
            "\tMost common class (class, occurences): [(np.int64(1), 3)]\n",
            "Unseen Sample: [6.7 3.1 4.7 1.5], [Predicted class 1] vs [Correct class 1]\n",
            "k_nearest_neigbours distances [(np.float64(0.3872983346207412), 12), (np.float64(0.3872983346207416), 104), (np.float64(0.7211102550927979), 102)]\n",
            "k_nearest_labels [np.int64(1), np.int64(1), np.int64(1)]\n",
            "Counter({np.int64(1): 3})\n",
            "\tMost common class (class, occurences): [(np.int64(1), 3)]\n",
            "Unseen Sample: [5.1 2.5 3.  1.1], [Predicted class 1] vs [Correct class 1]\n",
            "k_nearest_neigbours distances [(np.float64(0.6244997998398398), 78), (np.float64(0.7141428428542852), 42), (np.float64(0.768114574786861), 64)]\n",
            "k_nearest_labels [np.int64(0), np.int64(0), np.int64(0)]\n",
            "Counter({np.int64(0): 3})\n",
            "\tMost common class (class, occurences): [(np.int64(0), 3)]\n",
            "Unseen Sample: [4.5 2.3 1.3 0.3], [Predicted class 0] vs [Correct class 0]\n",
            "k_nearest_neigbours distances [(np.float64(0.17320508075688812), 18), (np.float64(0.19999999999999998), 64), (np.float64(0.20000000000000034), 73)]\n",
            "k_nearest_labels [np.int64(0), np.int64(0), np.int64(0)]\n",
            "Counter({np.int64(0): 3})\n",
            "\tMost common class (class, occurences): [(np.int64(0), 3)]\n",
            "Unseen Sample: [4.8 3.  1.4 0.1], [Predicted class 0] vs [Correct class 0]\n",
            "k_nearest_neigbours distances [(np.float64(0.17320508075688812), 94), (np.float64(0.22360679774997916), 6), (np.float64(0.24494897427831802), 86)]\n",
            "k_nearest_labels [np.int64(0), np.int64(0), np.int64(0)]\n",
            "Counter({np.int64(0): 3})\n",
            "\tMost common class (class, occurences): [(np.int64(0), 3)]\n",
            "Unseen Sample: [4.6 3.1 1.5 0.2], [Predicted class 0] vs [Correct class 0]\n",
            "k_nearest_neigbours distances [(np.float64(0.41231056256176585), 84), (np.float64(0.44721359549995787), 90), (np.float64(0.5), 80)]\n",
            "k_nearest_labels [np.int64(2), np.int64(2), np.int64(1)]\n",
            "Counter({np.int64(2): 2, np.int64(1): 1})\n",
            "\tMost common class (class, occurences): [(np.int64(2), 2), (np.int64(1), 1)]\n",
            "Unseen Sample: [6.3 2.5 4.9 1.5], [Predicted class 2] vs [Correct class 1]\n",
            "k_nearest_neigbours distances [(np.float64(0.22360679774997935), 47), (np.float64(0.346410161513776), 15), (np.float64(0.3872983346207417), 36)]\n",
            "k_nearest_labels [np.int64(2), np.int64(2), np.int64(2)]\n",
            "Counter({np.int64(2): 3})\n",
            "\tMost common class (class, occurences): [(np.int64(2), 3)]\n",
            "Unseen Sample: [6.8 3.2 5.9 2.3], [Predicted class 2] vs [Correct class 2]\n",
            "k_nearest_neigbours distances [(np.float64(0.3000000000000001), 9), (np.float64(0.33166247903553975), 20), (np.float64(0.36055512754639907), 97)]\n",
            "k_nearest_labels [np.int64(1), np.int64(1), np.int64(1)]\n",
            "Counter({np.int64(1): 3})\n",
            "\tMost common class (class, occurences): [(np.int64(1), 3)]\n",
            "Unseen Sample: [5.9 3.  4.2 1.5], [Predicted class 1] vs [Correct class 1]\n",
            "k_nearest_neigbours distances [(np.float64(0.14142135623730978), 86), (np.float64(0.22360679774997827), 43), (np.float64(0.22360679774997871), 85)]\n",
            "k_nearest_labels [np.int64(0), np.int64(0), np.int64(0)]\n",
            "Counter({np.int64(0): 3})\n",
            "\tMost common class (class, occurences): [(np.int64(0), 3)]\n",
            "Unseen Sample: [4.6 3.2 1.4 0.2], [Predicted class 0] vs [Correct class 0]\n",
            "k_nearest_neigbours distances [(np.float64(0.24494897427831822), 68), (np.float64(0.3605551275463989), 88), (np.float64(0.360555127546399), 65)]\n",
            "k_nearest_labels [np.int64(2), np.int64(2), np.int64(2)]\n",
            "Counter({np.int64(2): 3})\n",
            "\tMost common class (class, occurences): [(np.int64(2), 3)]\n",
            "Unseen Sample: [6.7 3.  5.2 2.3], [Predicted class 2] vs [Correct class 2]\n",
            "k_nearest_neigbours distances [(np.float64(0.1414213562373093), 75), (np.float64(0.14142135623730995), 0), (np.float64(0.14142135623730995), 26)]\n",
            "k_nearest_labels [np.int64(0), np.int64(0), np.int64(0)]\n",
            "Counter({np.int64(0): 3})\n",
            "\tMost common class (class, occurences): [(np.int64(0), 3)]\n",
            "Unseen Sample: [5.1 3.5 1.4 0.2], [Predicted class 0] vs [Correct class 0]\n"
          ]
        }
      ],
      "source": [
        "import collections\n",
        "\n",
        "\n",
        "def most_common(neighbours_classes, silent=False):\n",
        "    counter = collections.Counter(neighbours_classes)\n",
        "    if not silent:\n",
        "        print(counter)\n",
        "        print(\"\\tMost common class (class, occurences):\", counter.most_common())\n",
        "\n",
        "    return counter.most_common()[0][0]\n",
        "\n",
        "\n",
        "def euclidean_distance(sample1, sample2):\n",
        "    diff = sample1 - sample2\n",
        "    root_square_err = np.sqrt((diff * diff).sum())\n",
        "    return root_square_err\n",
        "\n",
        "\n",
        "def knn(train_data, train_classes, unseen_sample, silent=False):\n",
        "    k = 3\n",
        "    distances_and_indices = []\n",
        "\n",
        "    # 1. iterate through all training data\n",
        "    for i, train_sample in enumerate(train_data):\n",
        "        # 1. calculate distances\n",
        "        distance = euclidean_distance(unseen_sample, train_sample)\n",
        "        distances_and_indices.append((distance, i))\n",
        "\n",
        "    # 2. sort distances (and remember the correct indices)\n",
        "    sorted_distances_and_indices = sorted(distances_and_indices)\n",
        "\n",
        "    # 2. select best k neighbors\n",
        "    k_nearest_neigbours = sorted_distances_and_indices[:k]\n",
        "    k_nearest_labels = [train_classes[i] for distance, i in k_nearest_neigbours]\n",
        "\n",
        "    if not silent:\n",
        "        print(\"k_nearest_neigbours distances\", k_nearest_neigbours)\n",
        "        print(\"k_nearest_labels\", k_nearest_labels)\n",
        "\n",
        "    # 3. chose the most common class\n",
        "    predicted_class = most_common(k_nearest_labels[:k], silent)\n",
        "    return predicted_class\n",
        "\n",
        "\n",
        "for index, unseen_sample in enumerate(valid_data):\n",
        "    predicted_class = knn(train_data, train_classes, unseen_sample)\n",
        "    correct_class = valid_classes[index]\n",
        "    print(\n",
        "        \"Unseen Sample: %15s, [Predicted class %d] vs [Correct class %d]\"\n",
        "        % (str(unseen_sample), predicted_class, correct_class)\n",
        "    )\n"
      ]
    },
    {
      "cell_type": "markdown",
      "metadata": {
        "id": "N6oZ02z_FPe9"
      },
      "source": [
        "# Interpretarea rezultatelor\n",
        "\n",
        "❓ Ce așteptăm să obținem?\n",
        "\n",
        "❓ Ar fi indicat ca numărul de vecini să nu fie fix 3, ci să fie parametru k în funcție?\n",
        "\n",
        "- o valoare prea mică pentru k, înseamnă că decidem în funcție de foarte puțini vecini, astfel încât predicția noastră ar putea să nu fie suficient de generală, dat fiindcă este decisă într-un mediu prea constrâns (puțini vecini).\n",
        "- o valoare prea mare pentru k înseamnă că luăm în considerare intrări din setul de date care nu sunt aproape de exemplul nostru necunoscut, deci predicția noastră va avea de suferit.\n",
        "- Spre exemplu, daca avem `k = 6` vecini, iar pentru un exemplu nou, necunoscut avem 3 voturi pentru eticheta 1, 2 voturi pentru eticheta 0 și 1 vot pentru eticheta 2, cum am putea decide care este eticheta exemplului nostru necunoscut❓\n"
      ]
    },
    {
      "cell_type": "markdown",
      "metadata": {
        "id": "D3zN6f_XXRbT"
      },
      "source": [
        "### Predicția ca o distribuție a claselor\n",
        "\n",
        "Ținând cont de rezultatele obtinute mai sus pentru `k=6`, inuitiv, algoritmul ne spune ca, pentru setul de date de antrenament, probabilitatea ca exemplul să fie de tipul 1 este 3/6, de tipul 0 este 2/6, iar de tipul 2 este 1/6.\n",
        "\n",
        "- Care este suma acestor probabilități❓\n",
        "- Credeți că este doar o coincidență❓\n",
        "- De ce❓\n",
        "\n",
        "**Bonus:** Dacă vă place statistica, ar trebui sa citiți mai multe despre _Regula Bayes_ în contextul învățării automate (puteti vedea [aici](https://www.geeksforgeeks.org/naive-bayes-classifiers/) un exemplu pentru setul de date Iris).\n"
      ]
    },
    {
      "cell_type": "code",
      "execution_count": null,
      "metadata": {
        "colab": {
          "base_uri": "https://localhost:8080/",
          "height": 281
        },
        "id": "ksKUcAyFwYxC",
        "outputId": "6ff283e8-cff9-4983-e8c4-a14c4269aaba"
      },
      "outputs": [
        {
          "data": {
            "image/png": "[encoded data removed]",
            "text/plain": [
              "<Figure size 640x480 with 1 Axes>"
            ]
          },
          "metadata": {},
          "output_type": "display_data"
        }
      ],
      "source": [
        "# We have 3 classes: 0, 1, 2 (setosa, versicolor and virginica)\n",
        "\n",
        "import matplotlib.pyplot as plt\n",
        "\n",
        "# Predictions for one test sample, from k=6 neighbours\n",
        "predictions = [0, 0, 1, 1, 1, 2]\n",
        "bins = np.unique(predictions)\n",
        "_ = plt.hist(predictions, bins=np.arange(len(bins) + 1) - 0.5, density=True)\n",
        "plt.xticks(bins, iris_ds.target_names)\n",
        "plt.title(\"Predicția ca o distribuție a claselor\")\n",
        "plt.ylabel(\"Probabilitatea\")\n",
        "\n",
        "plt.show()"
      ]
    },
    {
      "cell_type": "markdown",
      "metadata": {
        "id": "a-diMUjvHk78"
      },
      "source": [
        "## Rezultate calitative\n",
        "\n",
        "Uneori este important să vizualizăm rezultatele, pentru a le întelege mai bine structura datelor. Ințelegând datele, putem izola mai bine situațiile în care algoritmul nostru nu face predicțiile așteptate, naturale, asa cum vom vedea pana la finalul acestei sectiuni despre rezultate\n"
      ]
    },
    {
      "cell_type": "code",
      "execution_count": 26,
      "metadata": {
        "colab": {
          "base_uri": "https://localhost:8080/",
          "height": 577
        },
        "id": "UBmiA3RHkn4a",
        "outputId": "4d5df6a3-5eaf-4410-b7df-b07c8397a33e"
      },
      "outputs": [
        {
          "data": {
            "image/png": "[encoded data removed]",
            "text/plain": [
              "<Figure size 500x400 with 2 Axes>"
            ]
          },
          "metadata": {},
          "output_type": "display_data"
        },
        {
          "data": {
            "image/png": "[encoded data removed]",
            "text/plain": [
              "<Figure size 500x400 with 2 Axes>"
            ]
          },
          "metadata": {},
          "output_type": "display_data"
        }
      ],
      "source": [
        "# util function for the correct colors\n",
        "formatter = plt.FuncFormatter(lambda i, *args: iris_ds.target_names[int(i)])\n",
        "\n",
        "\n",
        "def plot_iris(ox_data, oy_data, classes, features_names, title):\n",
        "    plt.figure(figsize=(5, 4))\n",
        "    plt.title(title)\n",
        "    plt.scatter(ox_data, oy_data, c=classes)\n",
        "    plt.colorbar(ticks=[0, 1, 2], format=formatter)\n",
        "    plt.xlabel(features_names[feature_xaxis])\n",
        "    plt.ylabel(features_names[feature_yaxis])\n",
        "    plt.tight_layout()\n",
        "    plt.show()\n",
        "\n",
        "\n",
        "# Run full algorithm\n",
        "predicted_classes = []\n",
        "for index, unseen_sample in enumerate(valid_data):\n",
        "    predicted_class = knn(train_data, train_classes, unseen_sample, silent=True)\n",
        "    predicted_classes.append(predicted_class)\n",
        "\n",
        "# The indices of the features that we are plotting (sepal lenght, sepal width)\n",
        "feature_xaxis, feature_yaxis = 1, 3\n",
        "\n",
        "# Correct Classes\n",
        "plot_iris(\n",
        "    ox_data=valid_data[:, feature_xaxis],\n",
        "    oy_data=valid_data[:, feature_yaxis],\n",
        "    classes=valid_classes,\n",
        "    features_names=iris_ds.feature_names,\n",
        "    title=\"Correct Classes\",\n",
        ")\n",
        "\n",
        "# Predicted Classes\n",
        "plot_iris(\n",
        "    ox_data=valid_data[:, feature_xaxis],\n",
        "    oy_data=valid_data[:, feature_yaxis],\n",
        "    classes=predicted_classes,\n",
        "    features_names=iris_ds.feature_names,\n",
        "    title=\"Predicted Classes\",\n",
        ")"
      ]
    },
    {
      "cell_type": "code",
      "execution_count": null,
      "metadata": {},
      "outputs": [
        {
          "data": {
            "application/vnd.jupyter.widget-view+json": {
              "model_id": "49e37381914c4dd4be6476c9496f9f48",
              "version_major": 2,
              "version_minor": 0
            },
            "text/plain": [
              "interactive(children=(IntSlider(value=1, description='feature_x', max=3), IntSlider(value=1, description='feat…"
            ]
          },
          "metadata": {},
          "output_type": "display_data"
        },
        {
          "data": {
            "text/plain": [
              "<function __main__.plot_interactive_iris(feature_x, feature_y, feature_z)>"
            ]
          },
          "execution_count": 24,
          "metadata": {},
          "output_type": "execute_result"
        }
      ],
      "source": [
        "from mpl_toolkits.mplot3d import Axes3D\n",
        "import matplotlib.pyplot as plt\n",
        "from ipywidgets import interact\n",
        "\n",
        "\n",
        "def plot_interactive_iris(feature_x, feature_y, feature_z):\n",
        "    fig = plt.figure(figsize=(10, 8))\n",
        "    ax = fig.add_subplot(111, projection=\"3d\")\n",
        "\n",
        "    x = valid_data[:, feature_x]\n",
        "    y = valid_data[:, feature_y]\n",
        "    z = valid_data[:, feature_z]\n",
        "\n",
        "    colors = valid_classes\n",
        "\n",
        "    scatter = ax.scatter(x, y, z, c=colors, marker=\"o\", s=50)\n",
        "\n",
        "    ax.set_xlabel(iris_ds.feature_names[feature_x])\n",
        "    ax.set_ylabel(iris_ds.feature_names[feature_y])\n",
        "    ax.set_zlabel(iris_ds.feature_names[feature_z])\n",
        "\n",
        "    legend1 = ax.legend(*scatter.legend_elements(), loc=\"lower left\", title=\"Classes\")\n",
        "    ax.add_artist(legend1)\n",
        "\n",
        "    plt.title(\"3D Scatter Plot of Iris Dataset\")\n",
        "    plt.show()\n",
        "\n",
        "\n",
        "interact(\n",
        "    plot_interactive_iris,\n",
        "    feature_x=(0, 3, 1),\n",
        "    feature_y=(0, 3, 1),\n",
        "    feature_z=(0, 3, 1),\n",
        ")"
      ]
    },
    {
      "cell_type": "markdown",
      "metadata": {
        "id": "fxOJne5znVun"
      },
      "source": [
        "<img src = 'https://drive.google.com/uc?id=1QBt0gOS0h0itKWF9Ok08Q99sfNMwAIOJ\n",
        "' width=\"10%\" align = \"center\">\n",
        "<br>\n",
        "\n",
        "1. Sunt erori in predicții❓\n",
        "2. Modificați codul, astfel încât să transeze graficul pentru alte două caracteristici (spre exemplu, înălțimea petalei și înălțimea sepalei)\n"
      ]
    },
    {
      "cell_type": "markdown",
      "metadata": {
        "id": "Hc4zj9EEmhDI"
      },
      "source": [
        "Pentru mai multe vizualizări interesante, mergi la: https://www.kaggle.com/zachgold/python-iris-data-visualizations\n"
      ]
    },
    {
      "cell_type": "markdown",
      "metadata": {
        "id": "75MqsFL1HiBp"
      },
      "source": [
        "## Rezultate cantitative\n",
        "\n",
        "- Cum măsuram cât de bun este algoritmul nostru în rezolvarea problemei de clasificare❓\n",
        "- De ce este necesar să știm cât de bun este algoritmul nostru❓\n",
        "\n",
        "**Avem nevoie să comparăm diferiți algoritmi pentru a îl alege pe cel mai bun.**\n"
      ]
    },
    {
      "cell_type": "markdown",
      "metadata": {
        "id": "GhjmPPmzItI9"
      },
      "source": [
        "#### Acuratețea\n",
        "\n",
        "Pentru a măsura calitatea unei clasificari, cea mai directă metodă este **acuratețea clasificării**, aceasta este definită ca procentajul de exemple **clasificate corect** raportat la **numărul total** de exemple de clasificat.\n"
      ]
    },
    {
      "cell_type": "code",
      "execution_count": null,
      "metadata": {
        "colab": {
          "base_uri": "https://localhost:8080/"
        },
        "id": "BDcYmAvHgz1U",
        "outputId": "b1b0c21f-a01e-4bbf-cdd2-26480db31758"
      },
      "outputs": [
        {
          "name": "stdout",
          "output_type": "stream",
          "text": [
            "Accuracy 93.33%\n"
          ]
        }
      ],
      "source": [
        "# Run full algorithm\n",
        "predicted_classes = []\n",
        "for index, unseen_sample in enumerate(valid_data):\n",
        "    predicted_class = knn(train_data, train_classes, unseen_sample, silent=True)\n",
        "    predicted_classes.append(predicted_class)\n",
        "\n",
        "# Compute the accuracy\n",
        "count_correct = (valid_classes == predicted_classes).sum()\n",
        "total_predictions = len(predicted_classes)\n",
        "accuracy = count_correct / total_predictions\n",
        "\n",
        "# Higher is better! Why?\n",
        "print(\"Accuracy %.2f%%\" % (accuracy * 100))\n"
      ]
    },
    {
      "cell_type": "markdown",
      "metadata": {
        "id": "9rGDC1s8IyGG"
      },
      "source": [
        "#### Matricea de confuzie\n",
        "\n",
        "După cum sugerează numele, matricea de confuzie este folosită ca sa ne dăm seama, ce fel de confuzii face un algoritm de clasificare. Aceasta redă o analiză detaliată despre ce clase sunt confundate de către algoritm.\n",
        "\n",
        "Matricea de confuzie este definita prin: $C$, unde $C_{ij}$ reprezinta numărul total de exemple din clasa $i$, pentru care algoritmul nostru a prezis clasa $j$. De aici deducem ca o matrice de confuzie $C$ buna, pentru un algoritm arată cât mai mult ca o matrice diagonală.\n",
        "\n",
        "De ce este folositor❓\n",
        "\n",
        "De exemplu, daca algoritmul nostru face confuzie între câini și pisici, dar funcționează bine pe alte clase, poate tot ce avem de făcut este sa adăugam mai multe exemple pentru câini și pisici în setul de antrenament.\n",
        "\n",
        "In cazul algoritmului nostru, kNN, matricea de confuzie ne-ar putea da indicații ca funcția noastră de distanță nu este destul de bună pentru a diferenția două clase\n"
      ]
    },
    {
      "cell_type": "code",
      "execution_count": null,
      "metadata": {
        "colab": {
          "base_uri": "https://localhost:8080/",
          "height": 311
        },
        "id": "ITgvQkVUhkfk",
        "outputId": "e9a3d04f-9134-4ba8-db13-a8cb49138801"
      },
      "outputs": [
        {
          "data": {
            "image/png": "[encoded data removed]",
            "text/plain": [
              "<Figure size 640x480 with 2 Axes>"
            ]
          },
          "metadata": {},
          "output_type": "display_data"
        }
      ],
      "source": [
        "from sklearn.metrics import confusion_matrix\n",
        "import matplotlib.pyplot as plt\n",
        "import numpy as np\n",
        "\n",
        "\n",
        "def plot_confusion_matrix(cm, class_names):\n",
        "    plt.imshow(\n",
        "        cm, interpolation=\"nearest\", cmap=plt.cm.Blues\n",
        "    )  # Change color map to Blues\n",
        "\n",
        "    plt.title(\"Confusion matrix\")\n",
        "    plt.colorbar()\n",
        "\n",
        "    tick_marks = np.arange(len(class_names))\n",
        "    plt.xticks(tick_marks, class_names, rotation=45)\n",
        "    plt.yticks(tick_marks, class_names)\n",
        "\n",
        "    # Add the counts in each cell\n",
        "    thresh = cm.max() / 2.0\n",
        "    for i in range(cm.shape[0]):\n",
        "        for j in range(cm.shape[1]):\n",
        "            plt.text(\n",
        "                j,\n",
        "                i,\n",
        "                format(cm[i, j], \"d\"),\n",
        "                horizontalalignment=\"center\",\n",
        "                color=\"white\" if cm[i, j] > thresh else \"black\",\n",
        "            )\n",
        "\n",
        "    plt.tight_layout()\n",
        "    plt.ylabel(\"True label\")\n",
        "    plt.xlabel(\"Predicted label\")\n",
        "\n",
        "\n",
        "conf_matrix = confusion_matrix(valid_classes, predicted_classes)\n",
        "plt.figure()\n",
        "plot_confusion_matrix(conf_matrix, iris_ds.target_names)\n",
        "plt.show()\n"
      ]
    },
    {
      "cell_type": "markdown",
      "metadata": {
        "id": "N1Juuo9TQvED"
      },
      "source": [
        "<img src = 'https://drive.google.com/uc?id=1QBt0gOS0h0itKWF9Ok08Q99sfNMwAIOJ\n",
        "' width=\"10%\" align = \"center\">\n",
        "<br>\n",
        "Jucați-vă cu codul pentru a rezolva exercițiile următoare!\n",
        "\n",
        "1. De ce am folosit array-uri din numpy pentru `iris_ds.data` în locul listelor din python❓\n",
        "2. Cum alegem un număr potrivit de vecini pentru algoritmul KNN(k)❓\n",
        "3. Ce se întamplă dacă cei mai apropiați vecini nu ajung la un vot majoritar pentru un exemplu nou (de exemplu, pentru k = 3, fiecare vecin are o clasa diferită)❓\n",
        "4. Cum alegem o funcție bună de distanță între punctele asociate datelor? Ar funcționa aceeași funcție pentru compararea lungimii florilor și pentru compararea vârstei oamenilor❓\n",
        "5. (opțional) Implementați funcția `most_common` de la 0, fără a folosi biblioteca `collections` din python\n",
        "6. (opțional) Implementați funcția `confusion_matrix` de la 0, fără a folosi biblioteca `sklearn` din python.\n"
      ]
    },
    {
      "cell_type": "markdown",
      "metadata": {
        "id": "DGCP49BJrDMH"
      },
      "source": [
        "# Referințe și resurse\n",
        "\n",
        "https://www.ejradiology.com/article/S0720-048X(20)30650-1/fulltext\n",
        "\n",
        "http://neuralnetworksanddeeplearning.com/chap6.html\n",
        "\n",
        "https://medium.com/analytics-vidhya/exploratory-data-analysis-uni-variate-analysis-of-iris-data-set-690c87a5cd40\n",
        "\n",
        "https://ai.plainenglish.io/a-first-application-classifying-iris-species-9a9012f4c062\n"
      ]
    }
  ],
  "metadata": {
    "colab": {
      "collapsed_sections": [
        "toKgH4lgmsan",
        "k3GPVQc741x0",
        "mIGvkNLd443Y",
        "RdnYxwJ_JhTS",
        "IotkIwKMTaX8",
        "NgxvYEVNTcH_",
        "DGCP49BJrDMH"
      ],
      "provenance": []
    },
    "kernelspec": {
      "display_name": "OAI",
      "language": "python",
      "name": "python3"
    },
    "language_info": {
      "codemirror_mode": {
        "name": "ipython",
        "version": 3
      },
      "file_extension": ".py",
      "mimetype": "text/x-python",
      "name": "python",
      "nbconvert_exporter": "python",
      "pygments_lexer": "ipython3",
      "version": "3.12.9"
    }
  },
  "nbformat": 4,
  "nbformat_minor": 0
}
